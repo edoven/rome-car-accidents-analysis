{
 "cells": [
  {
   "cell_type": "code",
   "execution_count": 17,
   "metadata": {
    "collapsed": true
   },
   "outputs": [],
   "source": [
    "import pandas as pd\n",
    "import matplotlib.pyplot as plt\n",
    "import numpy as np\n",
    "import seaborn as sns\n",
    "import folium\n",
    "from folium import plugins\n",
    "import datetime as dt\n",
    "from matplotlib.dates import MonthLocator, WeekdayLocator, DateFormatter, YearLocator\n",
    "from bokeh.palettes import Spectral4\n",
    "from bokeh.plotting import figure, output_file, show\n",
    "from bokeh.models import Range1d\n",
    "from bokeh.plotting import figure, output_file, show, ColumnDataSource\n",
    "from bokeh.models import HoverTool\n",
    "from bokeh import embed\n",
    "\n",
    "%matplotlib inline \n",
    "plt.style.use('fivethirtyeight')\n",
    "pd.set_option('display.max_columns', None)"
   ]
  },
  {
   "cell_type": "code",
   "execution_count": 2,
   "metadata": {
    "collapsed": true
   },
   "outputs": [],
   "source": [
    "MESI = ['gen','feb','mar','apr','mag','giu','lug','ago','set','ott','nov','dic']"
   ]
  },
  {
   "cell_type": "markdown",
   "metadata": {},
   "source": [
    "# Import data"
   ]
  },
  {
   "cell_type": "code",
   "execution_count": 3,
   "metadata": {
    "collapsed": true
   },
   "outputs": [],
   "source": [
    "df = pd.read_csv('data/incidenti_2007_2017.csv')"
   ]
  },
  {
   "cell_type": "code",
   "execution_count": 4,
   "metadata": {
    "collapsed": true
   },
   "outputs": [],
   "source": [
    "df = df[df['DataOraIncidente_year']!=2017].copy()"
   ]
  },
  {
   "cell_type": "code",
   "execution_count": 5,
   "metadata": {},
   "outputs": [
    {
     "data": {
      "text/html": [
       "<div>\n",
       "<table border=\"1\" class=\"dataframe\">\n",
       "  <thead>\n",
       "    <tr style=\"text-align: right;\">\n",
       "      <th></th>\n",
       "      <th>Chilometrica</th>\n",
       "      <th>CondizioneAtmosferica</th>\n",
       "      <th>Confermato</th>\n",
       "      <th>DaSpecificare</th>\n",
       "      <th>DataOraIncidente</th>\n",
       "      <th>FondoStradale</th>\n",
       "      <th>Gruppo</th>\n",
       "      <th>ID</th>\n",
       "      <th>Illuminazione</th>\n",
       "      <th>Latitudine</th>\n",
       "      <th>Localizzazione1</th>\n",
       "      <th>Localizzazione2</th>\n",
       "      <th>Longitudine</th>\n",
       "      <th>NUM_FERITI</th>\n",
       "      <th>NUM_ILLESI</th>\n",
       "      <th>NUM_MORTI</th>\n",
       "      <th>NUM_RISERVATA</th>\n",
       "      <th>NaturaIncidente</th>\n",
       "      <th>ParticolaritaStrade</th>\n",
       "      <th>Pavimentazione</th>\n",
       "      <th>Segnaletica</th>\n",
       "      <th>Strada02</th>\n",
       "      <th>Strada1</th>\n",
       "      <th>Strada2</th>\n",
       "      <th>TipoStrada</th>\n",
       "      <th>Traffico</th>\n",
       "      <th>Visibilita</th>\n",
       "      <th>DataOraIncidente_date</th>\n",
       "      <th>DataOraIncidente_time</th>\n",
       "      <th>DataOraIncidente_time_h</th>\n",
       "      <th>DataOraIncidente_weekday</th>\n",
       "      <th>DataOraIncidente_month</th>\n",
       "      <th>DataOraIncidente_year</th>\n",
       "    </tr>\n",
       "  </thead>\n",
       "  <tbody>\n",
       "    <tr>\n",
       "      <th>0</th>\n",
       "      <td>151-153</td>\n",
       "      <td>Nuvoloso</td>\n",
       "      <td>1.0</td>\n",
       "      <td>NaN</td>\n",
       "      <td>2007-01-01 00:00:00</td>\n",
       "      <td>Asciutto</td>\n",
       "      <td>18</td>\n",
       "      <td>1707637</td>\n",
       "      <td>Sufficiente</td>\n",
       "      <td>NaN</td>\n",
       "      <td>Strada Urbana</td>\n",
       "      <td>in prossimità</td>\n",
       "      <td>NaN</td>\n",
       "      <td>0</td>\n",
       "      <td>0</td>\n",
       "      <td>0</td>\n",
       "      <td>0</td>\n",
       "      <td>Veicolo in marcia contro veicolo in sosta</td>\n",
       "      <td>Rettilineo</td>\n",
       "      <td>Asfaltata</td>\n",
       "      <td>Verticale ed orizzontale</td>\n",
       "      <td>del civico n.</td>\n",
       "      <td>VIA ANASTASIO II</td>\n",
       "      <td>NaN</td>\n",
       "      <td>Due carreggiate</td>\n",
       "      <td>Normale</td>\n",
       "      <td>Buona</td>\n",
       "      <td>2007-01-01</td>\n",
       "      <td>00:00:00</td>\n",
       "      <td>0</td>\n",
       "      <td>0</td>\n",
       "      <td>1</td>\n",
       "      <td>2007</td>\n",
       "    </tr>\n",
       "    <tr>\n",
       "      <th>1</th>\n",
       "      <td>537</td>\n",
       "      <td>Nuvoloso</td>\n",
       "      <td>1.0</td>\n",
       "      <td>NaN</td>\n",
       "      <td>2007-01-01 00:40:00</td>\n",
       "      <td>Asciutto</td>\n",
       "      <td>4</td>\n",
       "      <td>1708657</td>\n",
       "      <td>Sufficiente</td>\n",
       "      <td>NaN</td>\n",
       "      <td>Provinciale entro l'abitato</td>\n",
       "      <td>in prossimità</td>\n",
       "      <td>NaN</td>\n",
       "      <td>2</td>\n",
       "      <td>9</td>\n",
       "      <td>0</td>\n",
       "      <td>0</td>\n",
       "      <td>Tamponamento Multiplo</td>\n",
       "      <td>Rettilineo</td>\n",
       "      <td>Asfaltata</td>\n",
       "      <td>Verticale ed orizzontale</td>\n",
       "      <td>del civico n.</td>\n",
       "      <td>VIA NOMENTANA</td>\n",
       "      <td>NaN</td>\n",
       "      <td>Più di due carreggiate</td>\n",
       "      <td>Normale</td>\n",
       "      <td>Buona</td>\n",
       "      <td>2007-01-01</td>\n",
       "      <td>00:40:00</td>\n",
       "      <td>0</td>\n",
       "      <td>0</td>\n",
       "      <td>1</td>\n",
       "      <td>2007</td>\n",
       "    </tr>\n",
       "    <tr>\n",
       "      <th>2</th>\n",
       "      <td>123/A</td>\n",
       "      <td>Pioggia in atto</td>\n",
       "      <td>1.0</td>\n",
       "      <td>NaN</td>\n",
       "      <td>2007-01-01 01:10:00</td>\n",
       "      <td>Bagnato (pioggia)</td>\n",
       "      <td>18</td>\n",
       "      <td>1707214</td>\n",
       "      <td>Sufficiente</td>\n",
       "      <td>NaN</td>\n",
       "      <td>Strada Urbana</td>\n",
       "      <td>in prossimità</td>\n",
       "      <td>NaN</td>\n",
       "      <td>1</td>\n",
       "      <td>2</td>\n",
       "      <td>0</td>\n",
       "      <td>0</td>\n",
       "      <td>Scontro frontale/laterale DX fra veicoli in ma...</td>\n",
       "      <td>Rettilineo</td>\n",
       "      <td>Asfaltata</td>\n",
       "      <td>Orizzontale</td>\n",
       "      <td>del civico n.</td>\n",
       "      <td>VIA MATTIA BATTISTINI</td>\n",
       "      <td>NaN</td>\n",
       "      <td>Una carreggiata a doppio senso</td>\n",
       "      <td>Normale</td>\n",
       "      <td>Buona</td>\n",
       "      <td>2007-01-01</td>\n",
       "      <td>01:10:00</td>\n",
       "      <td>1</td>\n",
       "      <td>0</td>\n",
       "      <td>1</td>\n",
       "      <td>2007</td>\n",
       "    </tr>\n",
       "    <tr>\n",
       "      <th>3</th>\n",
       "      <td>13</td>\n",
       "      <td>Nebbia</td>\n",
       "      <td>0.0</td>\n",
       "      <td>NaN</td>\n",
       "      <td>2007-01-01 01:30:00</td>\n",
       "      <td>Bagnato (umidità in atto)</td>\n",
       "      <td>5</td>\n",
       "      <td>1707689</td>\n",
       "      <td>Sufficiente</td>\n",
       "      <td>NaN</td>\n",
       "      <td>Strada Urbana</td>\n",
       "      <td>in prossimità</td>\n",
       "      <td>NaN</td>\n",
       "      <td>0</td>\n",
       "      <td>1</td>\n",
       "      <td>0</td>\n",
       "      <td>0</td>\n",
       "      <td>Veicolo in marcia contro veicoli fermi</td>\n",
       "      <td>Rettilineo</td>\n",
       "      <td>Asfaltata</td>\n",
       "      <td>Verticale</td>\n",
       "      <td>del civico n.</td>\n",
       "      <td>VIA CESARE DE LOLLIS</td>\n",
       "      <td>NaN</td>\n",
       "      <td>Una carreggiata a senso unico di marcia</td>\n",
       "      <td>Normale</td>\n",
       "      <td>Sufficiente</td>\n",
       "      <td>2007-01-01</td>\n",
       "      <td>01:30:00</td>\n",
       "      <td>1</td>\n",
       "      <td>0</td>\n",
       "      <td>1</td>\n",
       "      <td>2007</td>\n",
       "    </tr>\n",
       "    <tr>\n",
       "      <th>4</th>\n",
       "      <td>NaN</td>\n",
       "      <td>Nuvoloso</td>\n",
       "      <td>1.0</td>\n",
       "      <td>NaN</td>\n",
       "      <td>2007-01-01 01:30:00</td>\n",
       "      <td>Asciutto</td>\n",
       "      <td>16</td>\n",
       "      <td>1708159</td>\n",
       "      <td>Sufficiente</td>\n",
       "      <td>NaN</td>\n",
       "      <td>Strada Urbana</td>\n",
       "      <td>all'intersezione con</td>\n",
       "      <td>NaN</td>\n",
       "      <td>0</td>\n",
       "      <td>2</td>\n",
       "      <td>0</td>\n",
       "      <td>0</td>\n",
       "      <td>Scontro frontale/laterale SX fra veicoli in ma...</td>\n",
       "      <td>Incrocio</td>\n",
       "      <td>In cubetti di porfido</td>\n",
       "      <td>Verticale ed orizzontale</td>\n",
       "      <td>VIA RAFFAELLO GIOVAGNOLI</td>\n",
       "      <td>VIALE DEI QUATTRO VENTI</td>\n",
       "      <td>VIA RAFFAELLO GIOVAGNOLI</td>\n",
       "      <td>Una carreggiata a doppio senso</td>\n",
       "      <td>Normale</td>\n",
       "      <td>Buona</td>\n",
       "      <td>2007-01-01</td>\n",
       "      <td>01:30:00</td>\n",
       "      <td>1</td>\n",
       "      <td>0</td>\n",
       "      <td>1</td>\n",
       "      <td>2007</td>\n",
       "    </tr>\n",
       "  </tbody>\n",
       "</table>\n",
       "</div>"
      ],
      "text/plain": [
       "  Chilometrica CondizioneAtmosferica  Confermato DaSpecificare  \\\n",
       "0      151-153              Nuvoloso         1.0           NaN   \n",
       "1          537              Nuvoloso         1.0           NaN   \n",
       "2        123/A       Pioggia in atto         1.0           NaN   \n",
       "3           13                Nebbia         0.0           NaN   \n",
       "4          NaN              Nuvoloso         1.0           NaN   \n",
       "\n",
       "      DataOraIncidente              FondoStradale  Gruppo       ID  \\\n",
       "0  2007-01-01 00:00:00                   Asciutto      18  1707637   \n",
       "1  2007-01-01 00:40:00                   Asciutto       4  1708657   \n",
       "2  2007-01-01 01:10:00          Bagnato (pioggia)      18  1707214   \n",
       "3  2007-01-01 01:30:00  Bagnato (umidità in atto)       5  1707689   \n",
       "4  2007-01-01 01:30:00                   Asciutto      16  1708159   \n",
       "\n",
       "  Illuminazione  Latitudine              Localizzazione1  \\\n",
       "0   Sufficiente         NaN                Strada Urbana   \n",
       "1   Sufficiente         NaN  Provinciale entro l'abitato   \n",
       "2   Sufficiente         NaN                Strada Urbana   \n",
       "3   Sufficiente         NaN                Strada Urbana   \n",
       "4   Sufficiente         NaN                Strada Urbana   \n",
       "\n",
       "        Localizzazione2  Longitudine  NUM_FERITI  NUM_ILLESI  NUM_MORTI  \\\n",
       "0         in prossimità          NaN           0           0          0   \n",
       "1         in prossimità          NaN           2           9          0   \n",
       "2         in prossimità          NaN           1           2          0   \n",
       "3         in prossimità          NaN           0           1          0   \n",
       "4  all'intersezione con          NaN           0           2          0   \n",
       "\n",
       "   NUM_RISERVATA                                    NaturaIncidente  \\\n",
       "0              0          Veicolo in marcia contro veicolo in sosta   \n",
       "1              0                              Tamponamento Multiplo   \n",
       "2              0  Scontro frontale/laterale DX fra veicoli in ma...   \n",
       "3              0             Veicolo in marcia contro veicoli fermi   \n",
       "4              0  Scontro frontale/laterale SX fra veicoli in ma...   \n",
       "\n",
       "  ParticolaritaStrade         Pavimentazione               Segnaletica  \\\n",
       "0          Rettilineo              Asfaltata  Verticale ed orizzontale   \n",
       "1          Rettilineo              Asfaltata  Verticale ed orizzontale   \n",
       "2          Rettilineo              Asfaltata               Orizzontale   \n",
       "3          Rettilineo              Asfaltata                 Verticale   \n",
       "4            Incrocio  In cubetti di porfido  Verticale ed orizzontale   \n",
       "\n",
       "                   Strada02                  Strada1  \\\n",
       "0            del civico n.          VIA ANASTASIO II   \n",
       "1            del civico n.             VIA NOMENTANA   \n",
       "2            del civico n.     VIA MATTIA BATTISTINI   \n",
       "3            del civico n.      VIA CESARE DE LOLLIS   \n",
       "4  VIA RAFFAELLO GIOVAGNOLI  VIALE DEI QUATTRO VENTI   \n",
       "\n",
       "                    Strada2                               TipoStrada Traffico  \\\n",
       "0                       NaN                          Due carreggiate  Normale   \n",
       "1                       NaN                   Più di due carreggiate  Normale   \n",
       "2                       NaN           Una carreggiata a doppio senso  Normale   \n",
       "3                       NaN  Una carreggiata a senso unico di marcia  Normale   \n",
       "4  VIA RAFFAELLO GIOVAGNOLI           Una carreggiata a doppio senso  Normale   \n",
       "\n",
       "    Visibilita DataOraIncidente_date DataOraIncidente_time  \\\n",
       "0        Buona            2007-01-01              00:00:00   \n",
       "1        Buona            2007-01-01              00:40:00   \n",
       "2        Buona            2007-01-01              01:10:00   \n",
       "3  Sufficiente            2007-01-01              01:30:00   \n",
       "4        Buona            2007-01-01              01:30:00   \n",
       "\n",
       "   DataOraIncidente_time_h  DataOraIncidente_weekday  DataOraIncidente_month  \\\n",
       "0                        0                         0                       1   \n",
       "1                        0                         0                       1   \n",
       "2                        1                         0                       1   \n",
       "3                        1                         0                       1   \n",
       "4                        1                         0                       1   \n",
       "\n",
       "   DataOraIncidente_year  \n",
       "0                   2007  \n",
       "1                   2007  \n",
       "2                   2007  \n",
       "3                   2007  \n",
       "4                   2007  "
      ]
     },
     "execution_count": 5,
     "metadata": {},
     "output_type": "execute_result"
    }
   ],
   "source": [
    "df.head()"
   ]
  },
  {
   "cell_type": "code",
   "execution_count": 6,
   "metadata": {},
   "outputs": [
    {
     "data": {
      "text/plain": [
       "344040"
      ]
     },
     "execution_count": 6,
     "metadata": {},
     "output_type": "execute_result"
    }
   ],
   "source": [
    "len(df)"
   ]
  },
  {
   "cell_type": "code",
   "execution_count": 7,
   "metadata": {
    "collapsed": true
   },
   "outputs": [],
   "source": [
    "df['DataOraIncidente'] = df['DataOraIncidente'].apply(lambda d: pd.to_datetime(d))"
   ]
  },
  {
   "cell_type": "markdown",
   "metadata": {},
   "source": [
    "#  \n",
    "#  \n",
    "# Weekend vs festivi"
   ]
  },
  {
   "cell_type": "code",
   "execution_count": 8,
   "metadata": {
    "collapsed": true
   },
   "outputs": [],
   "source": [
    "df['DataOraIncidente_isweekend'] = df['DataOraIncidente_weekday'].apply(lambda x: 1 if x>=5 else 0)"
   ]
  },
  {
   "cell_type": "code",
   "execution_count": 9,
   "metadata": {},
   "outputs": [
    {
     "data": {
      "text/html": [
       "<div>\n",
       "<table border=\"1\" class=\"dataframe\">\n",
       "  <thead>\n",
       "    <tr style=\"text-align: right;\">\n",
       "      <th></th>\n",
       "      <th>ID</th>\n",
       "    </tr>\n",
       "    <tr>\n",
       "      <th>DataOraIncidente_isweekend</th>\n",
       "      <th></th>\n",
       "    </tr>\n",
       "  </thead>\n",
       "  <tbody>\n",
       "    <tr>\n",
       "      <th>0</th>\n",
       "      <td>0.776913</td>\n",
       "    </tr>\n",
       "    <tr>\n",
       "      <th>1</th>\n",
       "      <td>0.223087</td>\n",
       "    </tr>\n",
       "  </tbody>\n",
       "</table>\n",
       "</div>"
      ],
      "text/plain": [
       "                                  ID\n",
       "DataOraIncidente_isweekend          \n",
       "0                           0.776913\n",
       "1                           0.223087"
      ]
     },
     "execution_count": 9,
     "metadata": {},
     "output_type": "execute_result"
    }
   ],
   "source": [
    "df.groupby('DataOraIncidente_isweekend').count()[['ID']]/len(df)"
   ]
  },
  {
   "cell_type": "code",
   "execution_count": 10,
   "metadata": {},
   "outputs": [
    {
     "data": {
      "text/html": [
       "<div>\n",
       "<table border=\"1\" class=\"dataframe\">\n",
       "  <thead>\n",
       "    <tr style=\"text-align: right;\">\n",
       "      <th></th>\n",
       "      <th>ID</th>\n",
       "    </tr>\n",
       "    <tr>\n",
       "      <th>DataOraIncidente_isweekend</th>\n",
       "      <th></th>\n",
       "    </tr>\n",
       "  </thead>\n",
       "  <tbody>\n",
       "    <tr>\n",
       "      <th>0</th>\n",
       "      <td>0.719276</td>\n",
       "    </tr>\n",
       "    <tr>\n",
       "      <th>1</th>\n",
       "      <td>0.280724</td>\n",
       "    </tr>\n",
       "  </tbody>\n",
       "</table>\n",
       "</div>"
      ],
      "text/plain": [
       "                                  ID\n",
       "DataOraIncidente_isweekend          \n",
       "0                           0.719276\n",
       "1                           0.280724"
      ]
     },
     "execution_count": 10,
     "metadata": {},
     "output_type": "execute_result"
    }
   ],
   "source": [
    "df[df.NUM_MORTI>0].groupby('DataOraIncidente_isweekend').count()[['ID']]/len(df[df.NUM_MORTI>0])"
   ]
  },
  {
   "cell_type": "markdown",
   "metadata": {},
   "source": [
    "# Incidenti normali"
   ]
  },
  {
   "cell_type": "code",
   "execution_count": 11,
   "metadata": {
    "collapsed": true
   },
   "outputs": [],
   "source": [
    "df_temp = pd.merge(\n",
    "        df[df['DataOraIncidente_isweekend']==0].groupby('Strada1')\\\n",
    "                .count()[['ID']]\\\n",
    "                .rename(columns={'ID':'incidenti_week'}),\n",
    "        df[df['DataOraIncidente_isweekend']==1].groupby('Strada1')\\\n",
    "                .count()[['ID']]\\\n",
    "                .rename(columns={'ID':'incidenti_WE'}),\n",
    "        left_index=True,\n",
    "        right_index=True)\n",
    "\n",
    "#df_temp = df_temp[df_temp['incidenti_week']>300]"
   ]
  },
  {
   "cell_type": "code",
   "execution_count": 12,
   "metadata": {},
   "outputs": [
    {
     "data": {
      "text/plain": [
       "<matplotlib.collections.PathCollection at 0x1155d8240>"
      ]
     },
     "execution_count": 12,
     "metadata": {},
     "output_type": "execute_result"
    },
    {
     "data": {
      "image/png": "[encoded data removed]",
      "text/plain": [
       "<matplotlib.figure.Figure at 0x119c01d30>"
      ]
     },
     "metadata": {},
     "output_type": "display_data"
    }
   ],
   "source": [
    "plt.scatter(df_temp['incidenti_week'],\n",
    "            df_temp['incidenti_WE'],\n",
    "            s=20,\n",
    "            alpha=0.5)"
   ]
  },
  {
   "cell_type": "code",
   "execution_count": 13,
   "metadata": {},
   "outputs": [
    {
     "data": {
      "text/html": [
       "<div>\n",
       "<table border=\"1\" class=\"dataframe\">\n",
       "  <thead>\n",
       "    <tr style=\"text-align: right;\">\n",
       "      <th></th>\n",
       "      <th>incidenti_week</th>\n",
       "      <th>incidenti_WE</th>\n",
       "      <th>ratio</th>\n",
       "    </tr>\n",
       "    <tr>\n",
       "      <th>Strada1</th>\n",
       "      <th></th>\n",
       "      <th></th>\n",
       "      <th></th>\n",
       "    </tr>\n",
       "  </thead>\n",
       "  <tbody>\n",
       "    <tr>\n",
       "      <th>VIA ISABELLA DI CASTIGLIA</th>\n",
       "      <td>1</td>\n",
       "      <td>10</td>\n",
       "      <td>10.0</td>\n",
       "    </tr>\n",
       "    <tr>\n",
       "      <th>VIA GIACOMO LAURENZANI</th>\n",
       "      <td>1</td>\n",
       "      <td>6</td>\n",
       "      <td>6.0</td>\n",
       "    </tr>\n",
       "    <tr>\n",
       "      <th>VIA GIUTURNA</th>\n",
       "      <td>1</td>\n",
       "      <td>5</td>\n",
       "      <td>5.0</td>\n",
       "    </tr>\n",
       "    <tr>\n",
       "      <th>PIAZZA BORGHESE</th>\n",
       "      <td>1</td>\n",
       "      <td>4</td>\n",
       "      <td>4.0</td>\n",
       "    </tr>\n",
       "    <tr>\n",
       "      <th>VICOLO DI VAL TELLINA</th>\n",
       "      <td>1</td>\n",
       "      <td>4</td>\n",
       "      <td>4.0</td>\n",
       "    </tr>\n",
       "  </tbody>\n",
       "</table>\n",
       "</div>"
      ],
      "text/plain": [
       "                           incidenti_week  incidenti_WE  ratio\n",
       "Strada1                                                       \n",
       "VIA ISABELLA DI CASTIGLIA               1            10   10.0\n",
       "VIA GIACOMO LAURENZANI                  1             6    6.0\n",
       "VIA GIUTURNA                            1             5    5.0\n",
       "PIAZZA BORGHESE                         1             4    4.0\n",
       "VICOLO DI VAL TELLINA                   1             4    4.0"
      ]
     },
     "execution_count": 13,
     "metadata": {},
     "output_type": "execute_result"
    }
   ],
   "source": [
    "df_temp['ratio'] = df_temp['incidenti_WE'] / df_temp['incidenti_week']\n",
    "df_temp.sort_values(by='ratio',ascending=False).head()"
   ]
  },
  {
   "cell_type": "code",
   "execution_count": 35,
   "metadata": {
    "scrolled": true
   },
   "outputs": [
    {
     "name": "stdout",
     "output_type": "stream",
     "text": [
      "\n",
      "<div class=\"bk-root\">\n",
      "    <div class=\"bk-plotdiv\" id=\"7d978e93-236e-4ac6-abcb-4c50cd877cd1\"></div>\n",
      "</div>\n",
      "\n",
      "<script type=\"text/javascript\">\n",
      "    (function() {\n",
      "  var fn = function() {\n",
      "    Bokeh.safely(function() {\n",
      "      (function(root) {\n",
      "        function embed_document(root) {\n",
      "          var docs_json = {\"772c0c5d-4a1d-4a75-941e-1d7fbed07e2a\":{\"roots\":{\"references\":[{\"attributes\":{\"callback\":null},\"id\":\"3d2f581e-3598-476a-9dee-ce46446850f2\",\"type\":\"DataRange1d\"},{\"attributes\":{},\"id\":\"8b0e9973-54b7-4d11-a4e1-44868c54b022\",\"type\":\"PanTool\"},{\"attributes\":{\"source\":{\"id\":\"c512acd4-0332-48ed-bc3e-e25c556c6874\",\"type\":\"ColumnDataSource\"}},\"id\":\"63b64320-8d1d-4225-8e79-27169647387d\",\"type\":\"CDSView\"},{\"attributes\":{\"axis_label\":\"incidenti nel weekend\",\"formatter\":{\"id\":\"e08f2d3e-2340-416f-be1c-7aee947c3f29\",\"type\":\"BasicTickFormatter\"},\"plot\":{\"id\":\"259b7ec3-f06b-41ce-bed4-ae89f1c1d946\",\"subtype\":\"Figure\",\"type\":\"Plot\"},\"ticker\":{\"id\":\"46c39d9a-6033-4398-b025-900c764ad25b\",\"type\":\"BasicTicker\"}},\"id\":\"2e3a8c61-710c-4ffc-b000-f1d9071eafee\",\"type\":\"LinearAxis\"},{\"attributes\":{\"axis_label\":\"incidenti settimanali\",\"formatter\":{\"id\":\"9a397765-07ec-4122-9fe3-5c479fc00846\",\"type\":\"BasicTickFormatter\"},\"plot\":{\"id\":\"259b7ec3-f06b-41ce-bed4-ae89f1c1d946\",\"subtype\":\"Figure\",\"type\":\"Plot\"},\"ticker\":{\"id\":\"684127a0-d943-49ed-bb94-9c9f573bea07\",\"type\":\"BasicTicker\"}},\"id\":\"65ed0f33-8f14-4ca0-8707-60b9915f7ea7\",\"type\":\"LinearAxis\"},{\"attributes\":{},\"id\":\"9a397765-07ec-4122-9fe3-5c479fc00846\",\"type\":\"BasicTickFormatter\"},{\"attributes\":{},\"id\":\"e08f2d3e-2340-416f-be1c-7aee947c3f29\",\"type\":\"BasicTickFormatter\"},{\"attributes\":{},\"id\":\"4a34bdc1-4432-4d3f-86e6-778c285d5558\",\"type\":\"SaveTool\"},{\"attributes\":{\"overlay\":{\"id\":\"7da8a96c-e417-49f7-a113-77ef2d870472\",\"type\":\"BoxAnnotation\"}},\"id\":\"6e85b374-91b0-49c9-9ff9-973ea6459da0\",\"type\":\"BoxZoomTool\"},{\"attributes\":{},\"id\":\"ad12a299-65bf-4613-889a-300aa6cdaeae\",\"type\":\"ResetTool\"},{\"attributes\":{\"fill_color\":{\"value\":\"#1f77b4\"},\"line_color\":{\"value\":\"#1f77b4\"},\"size\":{\"units\":\"screen\",\"value\":5},\"x\":{\"field\":\"x\"},\"y\":{\"field\":\"y\"}},\"id\":\"4fe4e7b3-3576-4a57-ab2d-a3f224f6349c\",\"type\":\"Circle\"},{\"attributes\":{\"fill_alpha\":{\"value\":0.1},\"fill_color\":{\"value\":\"#1f77b4\"},\"line_alpha\":{\"value\":0.1},\"line_color\":{\"value\":\"#1f77b4\"},\"size\":{\"units\":\"screen\",\"value\":5},\"x\":{\"field\":\"x\"},\"y\":{\"field\":\"y\"}},\"id\":\"7b385814-4d09-4595-9e9c-1b44bbb26e2a\",\"type\":\"Circle\"},{\"attributes\":{\"plot\":null,\"text\":\"Incidenti: durante la settimana vs. weekend\"},\"id\":\"c4d011ec-70c9-478a-8793-50e3ddef6ddc\",\"type\":\"Title\"},{\"attributes\":{\"callback\":null,\"column_names\":[\"x\",\"y\",\"desc\"],\"data\":{\"desc\":[\"circonvallazione appia\",\"circonvallazione aurelia\",\"circonvallazione clodia\",\"circonvallazione cornelia\",\"circonvallazione gianicolense\",\"circonvallazione nomentana\",\"circonvallazione orientale\",\"circonvallazione ostiense\",\"circonvallazione salaria\",\"circonvallazione tiburtina\",\"circonvallazione trionfale\",\"circonvallazione tuscolana\",\"corso d'italia\",\"corso di francia\",\"corso duca di genova\",\"corso sempione\",\"corso trieste\",\"corso vittorio emanuele ii\",\"galleria giovanni xxiii\",\"largo giovanni xxiii\",\"largo preneste\",\"lungomare amerigo vespucci\",\"lungomare duilio\",\"lungomare lutazio catulo\",\"lungomare paolo toscanelli\",\"lungotevere arnaldo da brescia\",\"lungotevere aventino\",\"lungotevere de' cenci\",\"lungotevere degli inventori\",\"lungotevere dei fiorentini\",\"lungotevere dei mellini\",\"lungotevere dei sangallo\",\"lungotevere dei tebaldi\",\"lungotevere dei vallati\",\"lungotevere dell'acqua acetosa\",\"lungotevere della farnesina\",\"lungotevere della vittoria\",\"lungotevere delle armi\",\"lungotevere delle navi\",\"lungotevere di pietra papa\",\"lungotevere flaminio\",\"lungotevere gianicolense\",\"lungotevere in augusta\",\"lungotevere in sassia\",\"lungotevere maresciallo cadorna\",\"lungotevere maresciallo diaz\",\"lungotevere marzio\",\"lungotevere michelangelo\",\"lungotevere raffaello sanzio\",\"lungotevere ripa\",\"lungotevere testaccio\",\"lungotevere tor di nona\",\"passeggiata del gianicolo\",\"piazza adriana\",\"piazza antonio meucci\",\"piazza augusto righi\",\"piazza cavour\",\"piazza dei cinquecento\",\"piazza dei giureconsulti\",\"piazza dei re di roma\",\"piazza del colosseo\",\"piazza del risorgimento\",\"piazza dell'ara coeli\",\"piazza dell'esquilino\",\"piazza dell'indipendenza\",\"piazza della bocca della verita'\",\"piazza della radio\",\"piazza della repubblica\",\"piazza della rovere\",\"piazza delle cinque giornate\",\"piazza di cinecitta'\",\"piazza di porta capena\",\"piazza di porta maggiore\",\"piazza di porta s. giovanni\",\"piazza di porta s. paolo\",\"piazza di s. croce in gerusalemme\",\"piazza di s. giovanni in laterano\",\"piazza di villa carpegna\",\"piazza giuseppe mazzini\",\"piazza guglielmo marconi\",\"piazza irnerio\",\"piazza lauro de bosis\",\"piazza monte gennaro\",\"piazza pio xi\",\"piazza s. giovanni battista de la salle\",\"piazza s. giovanni di dio\",\"piazza venezia\",\"piazza vittorio emanuele ii\",\"piazzale appio\",\"piazzale brasile\",\"piazzale clodio\",\"piazzale cristoforo colombo\",\"piazzale degli eroi\",\"piazzale del verano\",\"piazzale delle provincie\",\"piazzale di ponte milvio\",\"piazzale enrico dunant\",\"piazzale eugenio morelli\",\"piazzale jonio\",\"piazzale labicano\",\"piazzale maresciallo giardino\",\"piazzale numa pompilio\",\"piazzale ostiense\",\"piazzale prenestino\",\"piazzale ugo la malfa\",\"ponte sublicio\",\"sottovia ignazio guidi\",\"tangenziale est\",\"tangenziale est direzione s. giovanni\",\"via acaia\",\"via achille vertunni\",\"via agostino chigi\",\"via alessandro piola caselli\",\"via amico aspertini\",\"via anagni\",\"via anagnina\",\"via anastasio ii\",\"via andersen\",\"via andrea doria\",\"via angelo emo\",\"via antonio pacinotti\",\"via appia antica\",\"via appia nuova\",\"via appia pignatelli\",\"via ardeatina\",\"via arturo graf\",\"via attilio ambrosini\",\"via aurelia\",\"via aurelia antica\",\"via baldo degli ubaldi\",\"via belmonte in sabina\",\"via bernardino alimena\",\"via bernardino ramazzini\",\"via borghesiana\",\"via braccianense\",\"via britannia\",\"via candia\",\"via carlo casini\",\"via casilina\",\"via cassia\",\"via cassia nuova\",\"via catania\",\"via cavour\",\"via chiana\",\"via cilicia\",\"via cina\",\"via cipro\",\"via cola di rienzo\",\"via collatina\",\"via conca d'oro\",\"via cornelia\",\"via crescenzio\",\"via cristoforo colombo\",\"via dandolo\",\"via dario niccodemi\",\"via degli angeli\",\"via degli orti della farnesina\",\"via degli scipioni\",\"via dei campi sportivi\",\"via dei castani\",\"via dei cerchi\",\"via dei ciclamini\",\"via dei due ponti\",\"via dei durantini\",\"via dei fori imperiali\",\"via dei gelsi\",\"via dei gordiani\",\"via dei monti di primavalle\",\"via dei monti tiburtini\",\"via dei pescatori\",\"via dei platani\",\"via dei prati fiscali\",\"via dei sette metri\",\"via dei velieri\",\"via del canale della lingua\",\"via del casale di s. basilio\",\"via del casale di s. pio v\",\"via del casale lumbroso\",\"via del casaletto\",\"via del castro pretorio\",\"via del circo massimo\",\"via del corso\",\"via del foro italico\",\"via del forte braschi\",\"via del fosso dell'osa\",\"via del fosso di dragoncello\",\"via del fosso di s. maura\",\"via del mare\",\"via del porto fluviale\",\"via del quadraro\",\"via del serafico\",\"via del teatro di marcello\",\"via del torraccio di torrenova\",\"via del tritone\",\"via del trullo\",\"via dell'acqua vergine\",\"via dell'acquedotto del peschiera\",\"via dell'almone\",\"via dell'amba aradam\",\"via dell'appagliatore\",\"via dell'arco di travertino\",\"via dell'idroscalo\",\"via della balduina\",\"via della bufalotta\",\"via della camilluccia\",\"via della casetta mattei\",\"via della cecchignola\",\"via della conciliazione\",\"via della farnesina\",\"via della giuliana\",\"via della giustiniana\",\"via della greca\",\"via della lega lombarda\",\"via della magliana\",\"via della magliana nuova\",\"via della maglianella\",\"via della pineta sacchetti\",\"via della pisana\",\"via della stazione di cesano\",\"via della storta\",\"via della tenuta del cavaliere\",\"via della valle dei fontanili\",\"via delle azzorre\",\"via delle baleniere\",\"via delle capannelle\",\"via delle fornaci\",\"via delle isole curzolane\",\"via delle robinie\",\"via delle sette chiese\",\"via delle terme di diocleziano\",\"via delle tre fontane\",\"via delle valli\",\"via delle vigne\",\"via delle vigne nuove\",\"via di acilia\",\"via di acqua acetosa ostiense\",\"via di acqua bullicante\",\"via di acquafredda\",\"via di baccanello\",\"via di boccea\",\"via di brava\",\"via di bravetta\",\"via di casal bianco\",\"via di casal boccone\",\"via di casal del marmo\",\"via di casal morena\",\"via di casal palocco\",\"via di casal selce\",\"via di casalotti\",\"via di castel di leva\",\"via di castel fusano\",\"via di centocelle\",\"via di decima\",\"via di donna olimpia\",\"via di dragone\",\"via di fontana candida\",\"via di grotta di gregna\",\"via di grotta perfetta\",\"via di grottarossa\",\"via di lunghezzina\",\"via di macchia palocco\",\"via di macchia saponara\",\"via di malafede\",\"via di marco simone\",\"via di mezzocammino\",\"via di monte verde\",\"via di passolombardo\",\"via di pietralata\",\"via di porta cavalleggeri\",\"via di porta furba\",\"via di porta maggiore\",\"via di portonaccio\",\"via di pratica\",\"via di prato cornelio\",\"via di rocca cencia\",\"via di s. croce in gerusalemme\",\"via di s. giovanni in laterano\",\"via di s. gregorio\",\"via di s. maria di galeria\",\"via di salone\",\"via di saponara\",\"via di selva candida\",\"via di settebagni\",\"via di tor bella monaca\",\"via di tor carbone\",\"via di tor cervara\",\"via di tor pagnotta\",\"via di tor pignattara\",\"via di tor sapienza\",\"via di tor tre teste\",\"via di tor vergata\",\"via di torre spaccata\",\"via di torrenova\",\"via di torrevecchia\",\"via di trigoria\",\"via di val cannuta\",\"via di valle melaina\",\"via di valle muricana\",\"via di vallerano\",\"via di vermicino\",\"via di vigna murata\",\"via domenico tardini\",\"via druso\",\"via edoardo jenner\",\"via eleniana\",\"via emanuele filiberto\",\"via emilio longoni\",\"via ermanno wolf ferrari\",\"via ettore rolli\",\"via fabio massimo\",\"via fabriano\",\"via federico borromeo\",\"via federico delpino\",\"via federico ozanam\",\"via ferdinando di savoia\",\"via filippo fiorentini\",\"via flaminia\",\"via flaminia nuova\",\"via fonteiana\",\"via francesco grimaldi\",\"via gallia\",\"via giorgio grappelli\",\"via giovanni battista morgagni\",\"via giovanni conti\",\"via giovanni giolitti\",\"via giovanni volpato\",\"via giuseppe antonio andriulli\",\"via gregorio vii\",\"via gregorio xi\",\"via guido calza\",\"via igino giordani\",\"via isole del capo verde\",\"via la spezia\",\"via labicana\",\"via latina\",\"via laurentina\",\"via leone iv\",\"via leone xiii\",\"via litoranea\",\"via livorno\",\"via lorenzo il magnifico\",\"via luigi capuana\",\"via luigi petroselli\",\"via magnagrecia\",\"via marcantonio colonna\",\"via marmorata\",\"via marsala\",\"via massa di san giuliano\",\"via mattia battistini\",\"via merulana\",\"via monte cervialto\",\"via nazareth\",\"via nazionale\",\"via nemorense\",\"via nicola zabaglia\",\"via nomentana\",\"via nomentana nuova\",\"via oderisi da gubbio\",\"via ostiense\",\"via panama\",\"via papiria\",\"via pasquale ii\",\"via pellegrino matteucci\",\"via pietro bembo\",\"via pietro maffi\",\"via pieve di cadore\",\"via pinciana\",\"via pindaro\",\"via po\",\"via polense\",\"via pontina\",\"via portuense\",\"via prenestina\",\"via quattro novembre\",\"via quinto publicio\",\"via quirino majorana\",\"via radicofani\",\"via raffaele costi\",\"via renato fucini\",\"via rinaldo d'aquino\",\"via roberto malatesta\",\"via sabotino\",\"via salaria\",\"via satrico\",\"via scribonio curione\",\"via siculiana\",\"via silicella\",\"via silvestri\",\"via suvereto\",\"via tancredi chiaraluce\",\"via taranto\",\"via teano\",\"via tiberina\",\"via tiburtina\",\"via tor de' schiavi\",\"via trionfale\",\"via tripoli\",\"via tuscolana\",\"via ugo de carolis\",\"via ugo ojetti\",\"via val di lanzo\",\"via venti settembre\",\"via virgilio talli\",\"via vittorio montiglio\",\"via vittorio veneto\",\"via walter tobagi\",\"viadotto della magliana\",\"viadotto giubileo del 2000\",\"viale adriatico\",\"viale alessandrino\",\"viale america\",\"viale angelico\",\"viale anicio gallo\",\"viale antonino di san giuliano\",\"viale antonio ciamarra\",\"viale aventino\",\"viale beethoven\",\"viale bruno buozzi\",\"viale bruno pelizzi\",\"viale bruno rizzieri\",\"viale carlo tommaso odescalchi\",\"viale castrense\",\"viale castro pretorio\",\"viale cesare pavese\",\"viale citta' d'europa\",\"viale cortina d'ampezzo\",\"viale dei caduti per la resistenza\",\"viale dei colli portuensi\",\"viale dei consoli\",\"viale dei promontori\",\"viale dei quattro venti\",\"viale dei romagnoli\",\"viale dei romanisti\",\"viale del foro italico\",\"viale del muro torto\",\"viale del policlinico\",\"viale del tintoretto\",\"viale dell'arte\",\"viale dell'oceano atlantico\",\"viale dell'oceano indiano\",\"viale dell'oceano pacifico\",\"viale dell'umanesimo\",\"viale dell'universita'\",\"viale della civilta' del lavoro\",\"viale della grande muraglia\",\"viale della moschea\",\"viale della primavera\",\"viale della serenissima\",\"viale della sorbona\",\"viale della venezia giulia\",\"viale delle belle arti\",\"viale delle gardenie\",\"viale delle medaglie d'oro\",\"viale delle milizie\",\"viale delle repubbliche marinare\",\"viale delle terme di caracalla\",\"viale dello scalo s. lorenzo\",\"viale dello stadio olimpico\",\"viale di castel porziano\",\"viale di tor di quinto\",\"viale di tor marancia\",\"viale di torre maura\",\"viale di trastevere\",\"viale duilio cambellotti\",\"viale egeo\",\"viale egidio galbani\",\"viale etiopia\",\"viale europa\",\"viale gioacchino rossini\",\"viale giulio cesare\",\"viale giuseppe mazzini\",\"viale giustiniano imperatore\",\"viale guglielmo marconi\",\"viale guido baccelli\",\"viale ignazio silone\",\"viale ippocrate\",\"viale isacco newton\",\"viale jonio\",\"viale kant\",\"viale leonardo da vinci\",\"viale liegi\",\"viale luigi schiavonetti\",\"viale manzoni\",\"viale marco fulvio nobiliore\",\"viale marco polo\",\"viale maresciallo pilsudski\",\"viale oxford\",\"viale palmiro togliatti\",\"viale paolo ferdinando quaglia\",\"viale parioli\",\"viale pico della mirandola\",\"viale pretoriano\",\"viale regina elena\",\"viale regina margherita\",\"viale somalia\",\"viale spartaco\",\"viale tirreno\",\"viale tiziano\",\"viale umberto tupini\",\"viale vasco de gama\",\"viale vaticano\",\"viale ventuno aprile\",\"viale xvii olimpiade\",\"tangenziale / est dir. salaria\"],\"x\":[137,357,281,384,831,441,135,267,325,367,229,117,468,855,242,161,325,443,575,116,140,139,136,114,228,275,194,235,182,116,133,135,180,120,130,152,127,132,134,147,341,110,210,136,257,289,141,129,156,144,146,190,115,221,125,118,117,142,193,261,162,211,157,145,104,102,235,112,217,109,203,332,244,302,166,124,366,181,196,251,162,160,110,360,148,119,448,297,170,106,414,152,217,255,124,148,231,132,177,228,124,209,329,142,137,102,206,215,217,160,104,125,104,248,144,677,352,147,202,246,280,209,2496,475,1617,107,121,2437,563,431,217,194,160,355,434,111,143,137,5111,2600,222,110,481,211,167,126,190,298,1383,244,238,299,5196,106,122,137,135,178,171,310,139,181,221,156,179,193,126,159,679,208,133,611,119,101,183,342,133,129,126,117,176,187,1303,121,233,165,266,731,279,173,158,196,172,117,322,128,143,134,245,114,156,116,138,587,294,345,197,110,115,137,280,137,136,1579,120,343,1059,659,205,167,116,205,135,188,339,107,226,122,154,118,198,119,122,423,343,229,491,148,145,2593,133,534,135,165,684,137,102,241,162,170,323,167,218,238,125,115,149,356,310,253,108,294,113,117,236,128,194,324,112,150,108,504,102,113,336,157,112,231,102,415,332,205,113,971,196,308,171,209,106,367,443,434,498,1088,297,101,145,170,108,262,336,134,162,112,208,293,145,294,153,132,116,134,126,154,120,164,1754,463,111,170,275,119,133,122,288,126,135,784,141,196,139,232,109,238,234,2103,260,431,412,119,103,114,157,239,106,216,233,167,742,483,170,109,188,167,108,3158,165,447,2416,129,168,107,122,138,148,110,153,112,165,506,1198,2288,4452,165,115,261,133,126,289,140,111,110,2416,112,113,113,162,271,116,119,322,134,271,4562,718,1906,150,3584,140,341,109,200,162,114,261,265,336,201,166,348,180,347,134,176,285,273,108,203,189,128,105,224,224,163,104,220,144,580,115,171,249,840,503,148,468,193,306,175,369,171,265,263,285,101,130,179,323,325,641,199,163,144,451,297,169,366,298,196,296,942,125,223,447,425,186,116,126,176,117,452,346,231,1419,101,149,127,323,472,152,118,160,176,359,120,274,256,475,2879,117,434,104,150,184,359,210,119,215,106,109,199,282,161,101,164],\"y\":[41,102,66,83,201,120,22,98,90,133,52,27,163,193,90,22,79,136,202,36,35,113,62,73,118,97,74,75,57,27,26,46,69,53,56,45,36,31,38,31,130,35,83,26,79,110,55,31,65,63,42,47,23,56,36,21,31,34,26,64,48,65,49,58,20,28,75,23,54,17,57,70,40,76,35,24,58,35,52,112,25,38,27,100,20,34,130,90,70,14,84,83,69,77,28,56,33,23,53,65,51,48,134,34,40,31,60,68,65,39,17,33,28,80,22,271,123,38,57,71,49,44,775,116,362,21,36,707,167,89,73,85,34,137,178,27,31,39,1598,828,49,28,145,65,61,37,50,89,409,48,79,88,1843,34,19,52,35,71,34,126,36,68,51,56,43,83,35,46,163,92,44,133,39,29,61,77,23,31,23,17,43,47,282,32,84,34,58,261,80,61,32,46,53,23,88,43,35,21,60,39,37,38,44,150,78,100,36,25,23,32,90,33,39,404,31,64,257,186,63,56,59,30,43,66,79,27,65,51,40,39,58,21,30,104,119,52,152,62,63,817,37,129,38,36,222,35,36,87,47,55,90,34,50,62,46,37,26,82,65,143,22,77,37,25,62,30,75,109,21,45,32,144,57,28,150,48,38,85,36,126,87,62,40,340,51,60,32,89,27,88,134,73,183,288,85,23,44,58,32,76,83,24,42,21,53,53,25,71,45,34,36,30,36,37,22,47,545,102,31,33,65,46,37,50,92,46,32,192,32,98,19,73,33,51,75,595,53,126,274,40,26,33,32,53,28,67,57,65,198,104,61,29,50,40,39,864,30,90,668,29,36,32,23,48,41,19,40,27,42,189,438,623,1397,44,43,63,33,18,103,42,40,35,671,23,36,44,26,50,20,48,89,24,117,1068,241,464,25,1182,40,89,45,42,39,23,51,57,156,65,48,95,39,81,37,44,60,65,38,36,56,39,22,73,46,39,20,71,60,126,36,57,61,260,184,26,213,25,91,35,103,33,64,47,49,31,35,36,111,81,121,45,34,35,111,76,52,85,92,87,107,336,29,67,194,104,64,35,38,39,22,82,63,64,359,36,32,24,92,120,53,21,28,42,95,53,97,55,64,843,49,82,20,21,32,67,42,43,51,29,36,81,82,48,23,60]}},\"id\":\"c512acd4-0332-48ed-bc3e-e25c556c6874\",\"type\":\"ColumnDataSource\"},{\"attributes\":{\"below\":[{\"id\":\"65ed0f33-8f14-4ca0-8707-60b9915f7ea7\",\"type\":\"LinearAxis\"}],\"left\":[{\"id\":\"2e3a8c61-710c-4ffc-b000-f1d9071eafee\",\"type\":\"LinearAxis\"}],\"renderers\":[{\"id\":\"65ed0f33-8f14-4ca0-8707-60b9915f7ea7\",\"type\":\"LinearAxis\"},{\"id\":\"05563c57-bb81-461f-92f9-58c4848b2fae\",\"type\":\"Grid\"},{\"id\":\"2e3a8c61-710c-4ffc-b000-f1d9071eafee\",\"type\":\"LinearAxis\"},{\"id\":\"4b9a5262-a907-47ae-9d52-ff8ed9d134e7\",\"type\":\"Grid\"},{\"id\":\"7da8a96c-e417-49f7-a113-77ef2d870472\",\"type\":\"BoxAnnotation\"},{\"id\":\"9dbdf791-c97b-4f9c-9491-94b78d96eff3\",\"type\":\"GlyphRenderer\"}],\"title\":{\"id\":\"c4d011ec-70c9-478a-8793-50e3ddef6ddc\",\"type\":\"Title\"},\"toolbar\":{\"id\":\"24df9326-f796-4791-9de1-c4a3772037ed\",\"type\":\"Toolbar\"},\"x_range\":{\"id\":\"3d2f581e-3598-476a-9dee-ce46446850f2\",\"type\":\"DataRange1d\"},\"x_scale\":{\"id\":\"766ac317-56ff-481d-95ab-df09b91c39ba\",\"type\":\"LinearScale\"},\"y_range\":{\"id\":\"77c29631-b3a7-44f5-82ba-0059c60e2be5\",\"type\":\"DataRange1d\"},\"y_scale\":{\"id\":\"609dfd18-e010-4ace-bbbf-99c820cd8aec\",\"type\":\"LinearScale\"}},\"id\":\"259b7ec3-f06b-41ce-bed4-ae89f1c1d946\",\"subtype\":\"Figure\",\"type\":\"Plot\"},{\"attributes\":{},\"id\":\"609dfd18-e010-4ace-bbbf-99c820cd8aec\",\"type\":\"LinearScale\"},{\"attributes\":{},\"id\":\"684127a0-d943-49ed-bb94-9c9f573bea07\",\"type\":\"BasicTicker\"},{\"attributes\":{\"bottom_units\":\"screen\",\"fill_alpha\":{\"value\":0.5},\"fill_color\":{\"value\":\"lightgrey\"},\"left_units\":\"screen\",\"level\":\"overlay\",\"line_alpha\":{\"value\":1.0},\"line_color\":{\"value\":\"black\"},\"line_dash\":[4,4],\"line_width\":{\"value\":2},\"plot\":null,\"render_mode\":\"css\",\"right_units\":\"screen\",\"top_units\":\"screen\"},\"id\":\"7da8a96c-e417-49f7-a113-77ef2d870472\",\"type\":\"BoxAnnotation\"},{\"attributes\":{},\"id\":\"766ac317-56ff-481d-95ab-df09b91c39ba\",\"type\":\"LinearScale\"},{\"attributes\":{},\"id\":\"f961dcc1-67fa-4dd3-8725-158b71c00d2f\",\"type\":\"WheelZoomTool\"},{\"attributes\":{},\"id\":\"b8201cd5-0296-4c12-ac10-2d034e8bfdeb\",\"type\":\"HelpTool\"},{\"attributes\":{\"plot\":{\"id\":\"259b7ec3-f06b-41ce-bed4-ae89f1c1d946\",\"subtype\":\"Figure\",\"type\":\"Plot\"},\"ticker\":{\"id\":\"684127a0-d943-49ed-bb94-9c9f573bea07\",\"type\":\"BasicTicker\"}},\"id\":\"05563c57-bb81-461f-92f9-58c4848b2fae\",\"type\":\"Grid\"},{\"attributes\":{\"callback\":null},\"id\":\"77c29631-b3a7-44f5-82ba-0059c60e2be5\",\"type\":\"DataRange1d\"},{\"attributes\":{\"active_drag\":\"auto\",\"active_inspect\":\"auto\",\"active_scroll\":\"auto\",\"active_tap\":\"auto\",\"tools\":[{\"id\":\"8b0e9973-54b7-4d11-a4e1-44868c54b022\",\"type\":\"PanTool\"},{\"id\":\"f961dcc1-67fa-4dd3-8725-158b71c00d2f\",\"type\":\"WheelZoomTool\"},{\"id\":\"6e85b374-91b0-49c9-9ff9-973ea6459da0\",\"type\":\"BoxZoomTool\"},{\"id\":\"4a34bdc1-4432-4d3f-86e6-778c285d5558\",\"type\":\"SaveTool\"},{\"id\":\"ad12a299-65bf-4613-889a-300aa6cdaeae\",\"type\":\"ResetTool\"},{\"id\":\"b8201cd5-0296-4c12-ac10-2d034e8bfdeb\",\"type\":\"HelpTool\"},{\"id\":\"52defae7-5ce5-4b35-a7c0-439b288221a4\",\"type\":\"HoverTool\"}]},\"id\":\"24df9326-f796-4791-9de1-c4a3772037ed\",\"type\":\"Toolbar\"},{\"attributes\":{\"data_source\":{\"id\":\"c512acd4-0332-48ed-bc3e-e25c556c6874\",\"type\":\"ColumnDataSource\"},\"glyph\":{\"id\":\"4fe4e7b3-3576-4a57-ab2d-a3f224f6349c\",\"type\":\"Circle\"},\"hover_glyph\":null,\"muted_glyph\":null,\"nonselection_glyph\":{\"id\":\"7b385814-4d09-4595-9e9c-1b44bbb26e2a\",\"type\":\"Circle\"},\"selection_glyph\":null,\"view\":{\"id\":\"63b64320-8d1d-4225-8e79-27169647387d\",\"type\":\"CDSView\"}},\"id\":\"9dbdf791-c97b-4f9c-9491-94b78d96eff3\",\"type\":\"GlyphRenderer\"},{\"attributes\":{\"dimension\":1,\"plot\":{\"id\":\"259b7ec3-f06b-41ce-bed4-ae89f1c1d946\",\"subtype\":\"Figure\",\"type\":\"Plot\"},\"ticker\":{\"id\":\"46c39d9a-6033-4398-b025-900c764ad25b\",\"type\":\"BasicTicker\"}},\"id\":\"4b9a5262-a907-47ae-9d52-ff8ed9d134e7\",\"type\":\"Grid\"},{\"attributes\":{\"callback\":null,\"tooltips\":[[\"strada\",\"@desc\"],[\"incidenti settimanali\",\"$x{int}\"],[\"incidenti weekend\",\"$y{int}\"]]},\"id\":\"52defae7-5ce5-4b35-a7c0-439b288221a4\",\"type\":\"HoverTool\"},{\"attributes\":{},\"id\":\"46c39d9a-6033-4398-b025-900c764ad25b\",\"type\":\"BasicTicker\"}],\"root_ids\":[\"259b7ec3-f06b-41ce-bed4-ae89f1c1d946\"]},\"title\":\"Bokeh Application\",\"version\":\"0.12.10\"}};\n",
      "          var render_items = [{\"docid\":\"772c0c5d-4a1d-4a75-941e-1d7fbed07e2a\",\"elementid\":\"b52c242a-0df3-4508-86f3-3be636776869\",\"modelid\":\"259b7ec3-f06b-41ce-bed4-ae89f1c1d946\"}];\n",
      "      \n",
      "          root.Bokeh.embed.embed_items(docs_json, render_items);\n",
      "        }\n",
      "      \n",
      "        if (root.Bokeh !== undefined) {\n",
      "          embed_document(root);\n",
      "        } else {\n",
      "          var attempts = 0;\n",
      "          var timer = setInterval(function(root) {\n",
      "            if (root.Bokeh !== undefined) {\n",
      "              embed_document(root);\n",
      "              clearInterval(timer);\n",
      "            }\n",
      "            attempts++;\n",
      "            if (attempts > 100) {\n",
      "              console.log(\"Bokeh: ERROR: Unable to embed document because BokehJS library is missing\")\n",
      "              clearInterval(timer);\n",
      "            }\n",
      "          }, 10, root)\n",
      "        }\n",
      "      })(window);\n",
      "    });\n",
      "  };\n",
      "  if (document.readyState != \"loading\") fn();\n",
      "  else document.addEventListener(\"DOMContentLoaded\", fn);\n",
      "})();\n",
      "\n",
      "</script>\n"
     ]
    }
   ],
   "source": [
    "output_file(\"output/WE_vs_week.html\")\n",
    "\n",
    "source = ColumnDataSource(data=dict(\n",
    "    x=df_temp[df_temp['incidenti_week']>100]['incidenti_week'].values,\n",
    "    y=df_temp[df_temp['incidenti_week']>100]['incidenti_WE'].values,\n",
    "    desc=[x.lower() for x in df_temp[df_temp['incidenti_week']>100].index.values]\n",
    "))\n",
    "\n",
    "hover = HoverTool(tooltips=[\n",
    "    (\"strada\", \"@desc\"),\n",
    "    (\"incidenti settimanali\", \"$x{int}\"),\n",
    "    (\"incidenti weekend\", \"$y{int}\"),\n",
    "    \n",
    "])\n",
    "\n",
    "p = figure(plot_width=600, plot_height=600, \n",
    "           #tools=[hover],\n",
    "           title=\"Incidenti: durante la settimana vs. weekend\")\n",
    "p.add_tools(hover)\n",
    "p.xaxis.axis_label = 'incidenti settimanali'\n",
    "p.yaxis.axis_label = 'incidenti nel weekend'\n",
    "\n",
    "p.circle('x', 'y', size=5, source=source)\n",
    "\n",
    "print(embed.components(p)[1])\n",
    "print(embed.components(p)[0])\n",
    "#show(p)"
   ]
  },
  {
   "cell_type": "markdown",
   "metadata": {},
   "source": [
    "# Incidenti con deceduti"
   ]
  },
  {
   "cell_type": "code",
   "execution_count": 26,
   "metadata": {
    "collapsed": true
   },
   "outputs": [],
   "source": [
    "df_temp = pd.merge(\n",
    "        df[(df['DataOraIncidente_isweekend']==0) & (df.NUM_MORTI>0)].groupby('Strada1')\\\n",
    "                .count()[['ID']]\\\n",
    "                .rename(columns={'ID':'incidenti_week'}),\n",
    "        df[(df['DataOraIncidente_isweekend']==1) & (df.NUM_MORTI>0)].groupby('Strada1')\\\n",
    "                .count()[['ID']]\\\n",
    "                .rename(columns={'ID':'incidenti_WE'}),\n",
    "        left_index=True,\n",
    "        right_index=True)"
   ]
  },
  {
   "cell_type": "code",
   "execution_count": 27,
   "metadata": {
    "collapsed": true
   },
   "outputs": [],
   "source": [
    "output_file(\"output/WE_vs_week--deceduti.html\")\n",
    "\n",
    "source = ColumnDataSource(data=dict(\n",
    "    x=df_temp['incidenti_week'].values,\n",
    "    y=df_temp['incidenti_WE'].values,\n",
    "    desc=[x.lower() for x in df_temp.index.values]\n",
    "))\n",
    "\n",
    "hover = HoverTool(tooltips=[\n",
    "    (\"strada\", \"@desc\"),\n",
    "    (\"incidenti settimanali\", \"$x{int}\"),\n",
    "    (\"incidenti weekend\", \"$y{int}\"),\n",
    "    \n",
    "])\n",
    "\n",
    "p = figure(plot_width=600, plot_height=600, \n",
    "           #tools=[hover],\n",
    "           title=\"Incidenti letali: durante la settimana vs. weekend\")\n",
    "p.add_tools(hover)\n",
    "p.xaxis.axis_label = 'incidenti settimanali'\n",
    "p.yaxis.axis_label = 'incidenti nel weekend'\n",
    "\n",
    "p.circle('x', 'y', size=5, source=source)\n",
    "\n",
    "show(p)"
   ]
  }
 ],
 "metadata": {
  "kernelspec": {
   "display_name": "Python 3",
   "language": "python",
   "name": "python3"
  },
  "language_info": {
   "codemirror_mode": {
    "name": "ipython",
    "version": 3
   },
   "file_extension": ".py",
   "mimetype": "text/x-python",
   "name": "python",
   "nbconvert_exporter": "python",
   "pygments_lexer": "ipython3",
   "version": "3.5.2"
  }
 },
 "nbformat": 4,
 "nbformat_minor": 2
}
