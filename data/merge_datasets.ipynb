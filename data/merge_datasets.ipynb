{
 "cells": [
  {
   "cell_type": "code",
   "execution_count": 1,
   "metadata": {
    "collapsed": true
   },
   "outputs": [],
   "source": [
    "import pandas as pd\n",
    "import matplotlib.pyplot as plt\n",
    "import numpy as np\n",
    "import seaborn as sns\n",
    "import folium\n",
    "from folium import plugins\n",
    "import datetime as dt\n",
    "\n",
    "%matplotlib inline \n",
    "plt.style.use('ggplot')\n",
    "pd.set_option('display.max_columns', None)"
   ]
  },
  {
   "cell_type": "markdown",
   "metadata": {},
   "source": [
    "# Import data"
   ]
  },
  {
   "cell_type": "markdown",
   "metadata": {},
   "source": [
    "### 2016"
   ]
  },
  {
   "cell_type": "code",
   "execution_count": 2,
   "metadata": {},
   "outputs": [
    {
     "data": {
      "text/html": [
       "<div>\n",
       "<table border=\"1\" class=\"dataframe\">\n",
       "  <thead>\n",
       "    <tr style=\"text-align: right;\">\n",
       "      <th></th>\n",
       "      <th>ID</th>\n",
       "      <th>Gruppo</th>\n",
       "      <th>DataOraIncidente</th>\n",
       "      <th>Localizzazione1</th>\n",
       "      <th>Localizzazione2</th>\n",
       "      <th>Strada02</th>\n",
       "      <th>Strada1</th>\n",
       "      <th>Strada2</th>\n",
       "      <th>Chilometrica</th>\n",
       "      <th>DaSpecificare</th>\n",
       "      <th>NaturaIncidente</th>\n",
       "      <th>ParticolaritaStrade</th>\n",
       "      <th>TipoStrada</th>\n",
       "      <th>FondoStradale</th>\n",
       "      <th>Pavimentazione</th>\n",
       "      <th>Segnaletica</th>\n",
       "      <th>CondizioneAtmosferica</th>\n",
       "      <th>traffico</th>\n",
       "      <th>Visibilita</th>\n",
       "      <th>Illuminazione</th>\n",
       "      <th>NUM_FERITI</th>\n",
       "      <th>NUM_RISERVATA</th>\n",
       "      <th>NUM_MORTI</th>\n",
       "      <th>NUM_ILLESI</th>\n",
       "      <th>Longitudine</th>\n",
       "      <th>Latitudine</th>\n",
       "      <th>Confermato</th>\n",
       "    </tr>\n",
       "  </thead>\n",
       "  <tbody>\n",
       "    <tr>\n",
       "      <th>0</th>\n",
       "      <td>2641443</td>\n",
       "      <td>5</td>\n",
       "      <td>2016-01-01 00:30:00.000</td>\n",
       "      <td>Strada Urbana</td>\n",
       "      <td>in prossimità</td>\n",
       "      <td>del civico n.</td>\n",
       "      <td>VIA GIUSEPPE DONATI</td>\n",
       "      <td>NaN</td>\n",
       "      <td>131</td>\n",
       "      <td>NaN</td>\n",
       "      <td>Veicolo in marcia contro veicoli in sosta</td>\n",
       "      <td>Rettilineo</td>\n",
       "      <td>Una carreggiata a doppio senso</td>\n",
       "      <td>Bagnato (umidità in atto)</td>\n",
       "      <td>Asfaltata</td>\n",
       "      <td>Assente</td>\n",
       "      <td>Nuvoloso</td>\n",
       "      <td>NaN</td>\n",
       "      <td>Buona</td>\n",
       "      <td>Ore Diurne</td>\n",
       "      <td>0</td>\n",
       "      <td>0</td>\n",
       "      <td>0</td>\n",
       "      <td>0</td>\n",
       "      <td>12.55253</td>\n",
       "      <td>41.90785</td>\n",
       "      <td>NaN</td>\n",
       "    </tr>\n",
       "    <tr>\n",
       "      <th>1</th>\n",
       "      <td>2639429</td>\n",
       "      <td>20</td>\n",
       "      <td>2016-01-01 01:40:00.000</td>\n",
       "      <td>Provinciale</td>\n",
       "      <td>da specificare</td>\n",
       "      <td>NaN</td>\n",
       "      <td>VIA DI VALLE MURICANA</td>\n",
       "      <td>NaN</td>\n",
       "      <td>NaN</td>\n",
       "      <td>proassimità km. 6,800</td>\n",
       "      <td>Fuoriuscita dalla sede stradale</td>\n",
       "      <td>Rettilineo</td>\n",
       "      <td>Una carreggiata a doppio senso</td>\n",
       "      <td>Asciutto</td>\n",
       "      <td>Asfaltata</td>\n",
       "      <td>Orizzontale</td>\n",
       "      <td>Sereno</td>\n",
       "      <td>NaN</td>\n",
       "      <td>Buona</td>\n",
       "      <td>Inesistente</td>\n",
       "      <td>1</td>\n",
       "      <td>0</td>\n",
       "      <td>0</td>\n",
       "      <td>0</td>\n",
       "      <td>12.46918</td>\n",
       "      <td>42.02333</td>\n",
       "      <td>NaN</td>\n",
       "    </tr>\n",
       "    <tr>\n",
       "      <th>2</th>\n",
       "      <td>2651512</td>\n",
       "      <td>18</td>\n",
       "      <td>2016-01-01 01:45:00.000</td>\n",
       "      <td>Strada Urbana</td>\n",
       "      <td>all'intersezione con</td>\n",
       "      <td>VIA AURELIA</td>\n",
       "      <td>VIA AURELIA</td>\n",
       "      <td>VIA AURELIA</td>\n",
       "      <td>NaN</td>\n",
       "      <td>NaN</td>\n",
       "      <td>Scontro laterale fra veicoli in marcia</td>\n",
       "      <td>Intersezione stradale segnalata</td>\n",
       "      <td>Una carreggiata a doppio senso</td>\n",
       "      <td>Asciutto</td>\n",
       "      <td>Asfaltata</td>\n",
       "      <td>Assente</td>\n",
       "      <td>Sereno</td>\n",
       "      <td>NaN</td>\n",
       "      <td>Buona</td>\n",
       "      <td>Sufficiente</td>\n",
       "      <td>1</td>\n",
       "      <td>0</td>\n",
       "      <td>0</td>\n",
       "      <td>7</td>\n",
       "      <td>12.42059</td>\n",
       "      <td>41.89682</td>\n",
       "      <td>NaN</td>\n",
       "    </tr>\n",
       "  </tbody>\n",
       "</table>\n",
       "</div>"
      ],
      "text/plain": [
       "        ID  Gruppo         DataOraIncidente Localizzazione1  \\\n",
       "0  2641443       5  2016-01-01 00:30:00.000   Strada Urbana   \n",
       "1  2639429      20  2016-01-01 01:40:00.000     Provinciale   \n",
       "2  2651512      18  2016-01-01 01:45:00.000   Strada Urbana   \n",
       "\n",
       "        Localizzazione2       Strada02                Strada1      Strada2  \\\n",
       "0         in prossimità  del civico n.    VIA GIUSEPPE DONATI          NaN   \n",
       "1        da specificare            NaN  VIA DI VALLE MURICANA          NaN   \n",
       "2  all'intersezione con    VIA AURELIA            VIA AURELIA  VIA AURELIA   \n",
       "\n",
       "  Chilometrica          DaSpecificare  \\\n",
       "0          131                    NaN   \n",
       "1          NaN  proassimità km. 6,800   \n",
       "2          NaN                    NaN   \n",
       "\n",
       "                             NaturaIncidente              ParticolaritaStrade  \\\n",
       "0  Veicolo in marcia contro veicoli in sosta                       Rettilineo   \n",
       "1            Fuoriuscita dalla sede stradale                       Rettilineo   \n",
       "2     Scontro laterale fra veicoli in marcia  Intersezione stradale segnalata   \n",
       "\n",
       "                       TipoStrada              FondoStradale Pavimentazione  \\\n",
       "0  Una carreggiata a doppio senso  Bagnato (umidità in atto)      Asfaltata   \n",
       "1  Una carreggiata a doppio senso                   Asciutto      Asfaltata   \n",
       "2  Una carreggiata a doppio senso                   Asciutto      Asfaltata   \n",
       "\n",
       "   Segnaletica CondizioneAtmosferica  traffico Visibilita Illuminazione  \\\n",
       "0      Assente              Nuvoloso       NaN      Buona    Ore Diurne   \n",
       "1  Orizzontale                Sereno       NaN      Buona   Inesistente   \n",
       "2      Assente                Sereno       NaN      Buona   Sufficiente   \n",
       "\n",
       "   NUM_FERITI  NUM_RISERVATA  NUM_MORTI  NUM_ILLESI  Longitudine  Latitudine  \\\n",
       "0           0              0          0           0     12.55253    41.90785   \n",
       "1           1              0          0           0     12.46918    42.02333   \n",
       "2           1              0          0           7     12.42059    41.89682   \n",
       "\n",
       "   Confermato  \n",
       "0         NaN  \n",
       "1         NaN  \n",
       "2         NaN  "
      ]
     },
     "execution_count": 2,
     "metadata": {},
     "output_type": "execute_result"
    }
   ],
   "source": [
    "df16 = pd.read_csv('data/CsvIncidenti2016.csv',delimiter=',')\n",
    "df16.head(3)"
   ]
  },
  {
   "cell_type": "code",
   "execution_count": 3,
   "metadata": {
    "collapsed": true
   },
   "outputs": [],
   "source": [
    "df16 = df16.rename(columns={'traffico':'Traffico'})"
   ]
  },
  {
   "cell_type": "markdown",
   "metadata": {},
   "source": [
    "### 2015"
   ]
  },
  {
   "cell_type": "code",
   "execution_count": 4,
   "metadata": {},
   "outputs": [
    {
     "data": {
      "text/html": [
       "<div>\n",
       "<table border=\"1\" class=\"dataframe\">\n",
       "  <thead>\n",
       "    <tr style=\"text-align: right;\">\n",
       "      <th></th>\n",
       "      <th>ID</th>\n",
       "      <th>Gruppo</th>\n",
       "      <th>Strada1</th>\n",
       "      <th>Strada2</th>\n",
       "      <th>Strada02</th>\n",
       "      <th>Traffico</th>\n",
       "      <th>NUM_MORTI</th>\n",
       "      <th>TipoStrada</th>\n",
       "      <th>Visibilita</th>\n",
       "      <th>NUM_FERITI</th>\n",
       "      <th>NUM_ILLESI</th>\n",
       "      <th>Latitudine</th>\n",
       "      <th>CONFERMATO</th>\n",
       "      <th>Segnaletica</th>\n",
       "      <th>Longitudine</th>\n",
       "      <th>Chilometrica</th>\n",
       "      <th>DaSpecificare</th>\n",
       "      <th>FondoStradale</th>\n",
       "      <th>Illuminazione</th>\n",
       "      <th>NUM_RISERVATA</th>\n",
       "      <th>Pavimentazione</th>\n",
       "      <th>Localizzazione1</th>\n",
       "      <th>Localizzazione2</th>\n",
       "      <th>NaturaIncidente</th>\n",
       "      <th>DataOraIncidente</th>\n",
       "      <th>ParticolaritaStrade</th>\n",
       "      <th>CondizioneAtmosferica</th>\n",
       "    </tr>\n",
       "  </thead>\n",
       "  <tbody>\n",
       "    <tr>\n",
       "      <th>0</th>\n",
       "      <td>2242899</td>\n",
       "      <td>17</td>\n",
       "      <td>LUNGOTEVERE DELLA VITTORIA</td>\n",
       "      <td>NaN</td>\n",
       "      <td>del civico n.</td>\n",
       "      <td>Scarso</td>\n",
       "      <td>0</td>\n",
       "      <td>Una carreggiata a doppio senso</td>\n",
       "      <td>Buona</td>\n",
       "      <td>0</td>\n",
       "      <td>0</td>\n",
       "      <td>41.92188</td>\n",
       "      <td>1</td>\n",
       "      <td>Orizzontale</td>\n",
       "      <td>12.46369</td>\n",
       "      <td>11</td>\n",
       "      <td>NaN</td>\n",
       "      <td>Asciutto</td>\n",
       "      <td>Ore Diurne</td>\n",
       "      <td>0</td>\n",
       "      <td>Asfaltata</td>\n",
       "      <td>Strada Urbana</td>\n",
       "      <td>in corrispondenza</td>\n",
       "      <td>Veicolo in marcia contro veicolo in sosta</td>\n",
       "      <td>2015-01-01 00:00:00.000</td>\n",
       "      <td>Rettilineo</td>\n",
       "      <td>Sereno</td>\n",
       "    </tr>\n",
       "    <tr>\n",
       "      <th>1</th>\n",
       "      <td>2242345</td>\n",
       "      <td>5</td>\n",
       "      <td>VIA RINALDO D'AQUINO</td>\n",
       "      <td>NaN</td>\n",
       "      <td>NaN</td>\n",
       "      <td>Normale</td>\n",
       "      <td>0</td>\n",
       "      <td>Una carreggiata a senso unico di marcia</td>\n",
       "      <td>Buona</td>\n",
       "      <td>0</td>\n",
       "      <td>0</td>\n",
       "      <td>41.96989</td>\n",
       "      <td>1</td>\n",
       "      <td>Verticale ed orizzontale</td>\n",
       "      <td>12.61306</td>\n",
       "      <td>NaN</td>\n",
       "      <td>rotatoria con Via Nomentana</td>\n",
       "      <td>Asciutto</td>\n",
       "      <td>Ore Diurne</td>\n",
       "      <td>0</td>\n",
       "      <td>Asfaltata</td>\n",
       "      <td>Strada Urbana</td>\n",
       "      <td>da specificare</td>\n",
       "      <td>Veicolo in marcia contro ostacolo fisso</td>\n",
       "      <td>2015-01-01 00:00:00.000</td>\n",
       "      <td>Curva a visuale libera</td>\n",
       "      <td>Sereno</td>\n",
       "    </tr>\n",
       "    <tr>\n",
       "      <th>2</th>\n",
       "      <td>2242463</td>\n",
       "      <td>1</td>\n",
       "      <td>LUNGOTEVERE DEI TEBALDI</td>\n",
       "      <td>NaN</td>\n",
       "      <td>del civico n.</td>\n",
       "      <td>Normale</td>\n",
       "      <td>0</td>\n",
       "      <td>Una carreggiata a senso unico di marcia</td>\n",
       "      <td>Buona</td>\n",
       "      <td>1</td>\n",
       "      <td>1</td>\n",
       "      <td>41.89466</td>\n",
       "      <td>1</td>\n",
       "      <td>Verticale ed orizzontale</td>\n",
       "      <td>12.46860</td>\n",
       "      <td>15</td>\n",
       "      <td>NaN</td>\n",
       "      <td>Asciutto</td>\n",
       "      <td>Sufficiente</td>\n",
       "      <td>0</td>\n",
       "      <td>Asfaltata</td>\n",
       "      <td>Strada Urbana</td>\n",
       "      <td>in prossimità</td>\n",
       "      <td>Investimento di pedone</td>\n",
       "      <td>2015-01-01 00:40:00.000</td>\n",
       "      <td>Rettilineo</td>\n",
       "      <td>Sereno</td>\n",
       "    </tr>\n",
       "  </tbody>\n",
       "</table>\n",
       "</div>"
      ],
      "text/plain": [
       "        ID  Gruppo                     Strada1 Strada2       Strada02  \\\n",
       "0  2242899      17  LUNGOTEVERE DELLA VITTORIA     NaN  del civico n.   \n",
       "1  2242345       5        VIA RINALDO D'AQUINO     NaN            NaN   \n",
       "2  2242463       1     LUNGOTEVERE DEI TEBALDI     NaN  del civico n.   \n",
       "\n",
       "  Traffico  NUM_MORTI                               TipoStrada Visibilita  \\\n",
       "0   Scarso          0           Una carreggiata a doppio senso      Buona   \n",
       "1  Normale          0  Una carreggiata a senso unico di marcia      Buona   \n",
       "2  Normale          0  Una carreggiata a senso unico di marcia      Buona   \n",
       "\n",
       "   NUM_FERITI  NUM_ILLESI  Latitudine  CONFERMATO               Segnaletica  \\\n",
       "0           0           0    41.92188           1               Orizzontale   \n",
       "1           0           0    41.96989           1  Verticale ed orizzontale   \n",
       "2           1           1    41.89466           1  Verticale ed orizzontale   \n",
       "\n",
       "   Longitudine Chilometrica                DaSpecificare FondoStradale  \\\n",
       "0     12.46369           11                          NaN      Asciutto   \n",
       "1     12.61306          NaN  rotatoria con Via Nomentana      Asciutto   \n",
       "2     12.46860           15                          NaN      Asciutto   \n",
       "\n",
       "  Illuminazione  NUM_RISERVATA Pavimentazione Localizzazione1  \\\n",
       "0    Ore Diurne              0      Asfaltata   Strada Urbana   \n",
       "1    Ore Diurne              0      Asfaltata   Strada Urbana   \n",
       "2   Sufficiente              0      Asfaltata   Strada Urbana   \n",
       "\n",
       "     Localizzazione2                            NaturaIncidente  \\\n",
       "0  in corrispondenza  Veicolo in marcia contro veicolo in sosta   \n",
       "1     da specificare    Veicolo in marcia contro ostacolo fisso   \n",
       "2      in prossimità                     Investimento di pedone   \n",
       "\n",
       "          DataOraIncidente     ParticolaritaStrade CondizioneAtmosferica  \n",
       "0  2015-01-01 00:00:00.000              Rettilineo                Sereno  \n",
       "1  2015-01-01 00:00:00.000  Curva a visuale libera                Sereno  \n",
       "2  2015-01-01 00:40:00.000              Rettilineo                Sereno  "
      ]
     },
     "execution_count": 4,
     "metadata": {},
     "output_type": "execute_result"
    }
   ],
   "source": [
    "df15 = pd.read_csv('data/CsvIncidenti2015.csv',delimiter=',')\n",
    "df15.head(3)"
   ]
  },
  {
   "cell_type": "code",
   "execution_count": 5,
   "metadata": {
    "collapsed": true
   },
   "outputs": [],
   "source": [
    "df15 = df15.rename(columns={'CONFERMATO':'Confermato'})"
   ]
  },
  {
   "cell_type": "code",
   "execution_count": 6,
   "metadata": {},
   "outputs": [
    {
     "data": {
      "text/plain": [
       "28905"
      ]
     },
     "execution_count": 6,
     "metadata": {},
     "output_type": "execute_result"
    }
   ],
   "source": [
    "len(df15)"
   ]
  },
  {
   "cell_type": "markdown",
   "metadata": {},
   "source": [
    "### 2014"
   ]
  },
  {
   "cell_type": "code",
   "execution_count": 7,
   "metadata": {},
   "outputs": [
    {
     "data": {
      "text/html": [
       "<div>\n",
       "<table border=\"1\" class=\"dataframe\">\n",
       "  <thead>\n",
       "    <tr style=\"text-align: right;\">\n",
       "      <th></th>\n",
       "      <th>ID</th>\n",
       "      <th>Gruppo</th>\n",
       "      <th>Strada1</th>\n",
       "      <th>Strada2</th>\n",
       "      <th>Strada02</th>\n",
       "      <th>Traffico</th>\n",
       "      <th>NUM_MORTI</th>\n",
       "      <th>TipoStrada</th>\n",
       "      <th>Visibilita</th>\n",
       "      <th>NUM_FERITI</th>\n",
       "      <th>NUM_ILLESI</th>\n",
       "      <th>Latitudine</th>\n",
       "      <th>CONFERMATO</th>\n",
       "      <th>Segnaletica</th>\n",
       "      <th>Longitudine</th>\n",
       "      <th>Chilometrica</th>\n",
       "      <th>DaSpecificare</th>\n",
       "      <th>FondoStradale</th>\n",
       "      <th>Illuminazione</th>\n",
       "      <th>NUM_RISERVATA</th>\n",
       "      <th>Pavimentazione</th>\n",
       "      <th>Localizzazione1</th>\n",
       "      <th>Localizzazione2</th>\n",
       "      <th>NaturaIncidente</th>\n",
       "      <th>DataOraIncidente</th>\n",
       "      <th>ParticolaritaStrade</th>\n",
       "      <th>CondizioneAtmosferica</th>\n",
       "    </tr>\n",
       "  </thead>\n",
       "  <tbody>\n",
       "    <tr>\n",
       "      <th>0</th>\n",
       "      <td>1968472</td>\n",
       "      <td>8</td>\n",
       "      <td>VIA MANDANICI</td>\n",
       "      <td>VIA GUARDIA PIEMONTESE</td>\n",
       "      <td>VIA GUARDIA PIEMONTESE</td>\n",
       "      <td>Normale</td>\n",
       "      <td>0</td>\n",
       "      <td>Una carreggiata a doppio senso</td>\n",
       "      <td>Buona</td>\n",
       "      <td>0</td>\n",
       "      <td>0</td>\n",
       "      <td>41.868250</td>\n",
       "      <td>1</td>\n",
       "      <td>Orizzontale</td>\n",
       "      <td>12.683580</td>\n",
       "      <td>NaN</td>\n",
       "      <td>NaN</td>\n",
       "      <td>Asciutto</td>\n",
       "      <td>Sufficiente</td>\n",
       "      <td>0</td>\n",
       "      <td>Asfaltata</td>\n",
       "      <td>Strada Urbana</td>\n",
       "      <td>all'intersezione con</td>\n",
       "      <td>Veicolo in marcia contro ostacolo fisso</td>\n",
       "      <td>2014-01-01 00:10:00.000</td>\n",
       "      <td>Intersezione non regolata/non segnalata</td>\n",
       "      <td>Sereno</td>\n",
       "    </tr>\n",
       "    <tr>\n",
       "      <th>1</th>\n",
       "      <td>1968743</td>\n",
       "      <td>20</td>\n",
       "      <td>PONTE FLAMINIO</td>\n",
       "      <td>NaN</td>\n",
       "      <td>NaN</td>\n",
       "      <td>Normale</td>\n",
       "      <td>0</td>\n",
       "      <td>Una carreggiata a doppio senso</td>\n",
       "      <td>Sufficiente</td>\n",
       "      <td>0</td>\n",
       "      <td>3</td>\n",
       "      <td>41.936570</td>\n",
       "      <td>1</td>\n",
       "      <td>Verticale ed orizzontale</td>\n",
       "      <td>12.471620</td>\n",
       "      <td>NaN</td>\n",
       "      <td>alt. terzultima colonna direzione via lupi</td>\n",
       "      <td>Asciutto</td>\n",
       "      <td>Sufficiente</td>\n",
       "      <td>0</td>\n",
       "      <td>Asfaltata</td>\n",
       "      <td>Strada Urbana</td>\n",
       "      <td>da specificare</td>\n",
       "      <td>Tamponamento</td>\n",
       "      <td>2014-01-01 00:20:00.000</td>\n",
       "      <td>Rettilineo</td>\n",
       "      <td>Sereno</td>\n",
       "    </tr>\n",
       "    <tr>\n",
       "      <th>2</th>\n",
       "      <td>1968781</td>\n",
       "      <td>2</td>\n",
       "      <td>VIA ANTONIO GRAMSCI</td>\n",
       "      <td>NaN</td>\n",
       "      <td>del civico n.</td>\n",
       "      <td>Scarso</td>\n",
       "      <td>0</td>\n",
       "      <td>Una carreggiata a senso unico di marcia</td>\n",
       "      <td>Buona</td>\n",
       "      <td>0</td>\n",
       "      <td>3</td>\n",
       "      <td>41.923058</td>\n",
       "      <td>1</td>\n",
       "      <td>Verticale ed orizzontale</td>\n",
       "      <td>12.476971</td>\n",
       "      <td>8</td>\n",
       "      <td>NaN</td>\n",
       "      <td>Asciutto</td>\n",
       "      <td>Sufficiente</td>\n",
       "      <td>0</td>\n",
       "      <td>Asfaltata</td>\n",
       "      <td>Strada Urbana</td>\n",
       "      <td>in prossimità</td>\n",
       "      <td>Tamponamento Multiplo</td>\n",
       "      <td>2014-01-01 01:00:00.000</td>\n",
       "      <td>Rettilineo</td>\n",
       "      <td>Sereno</td>\n",
       "    </tr>\n",
       "  </tbody>\n",
       "</table>\n",
       "</div>"
      ],
      "text/plain": [
       "        ID  Gruppo              Strada1                 Strada2  \\\n",
       "0  1968472       8        VIA MANDANICI  VIA GUARDIA PIEMONTESE   \n",
       "1  1968743      20       PONTE FLAMINIO                     NaN   \n",
       "2  1968781       2  VIA ANTONIO GRAMSCI                     NaN   \n",
       "\n",
       "                 Strada02 Traffico  NUM_MORTI  \\\n",
       "0  VIA GUARDIA PIEMONTESE  Normale          0   \n",
       "1                     NaN  Normale          0   \n",
       "2          del civico n.    Scarso          0   \n",
       "\n",
       "                                TipoStrada   Visibilita  NUM_FERITI  \\\n",
       "0           Una carreggiata a doppio senso        Buona           0   \n",
       "1           Una carreggiata a doppio senso  Sufficiente           0   \n",
       "2  Una carreggiata a senso unico di marcia        Buona           0   \n",
       "\n",
       "   NUM_ILLESI  Latitudine  CONFERMATO               Segnaletica  Longitudine  \\\n",
       "0           0   41.868250           1               Orizzontale    12.683580   \n",
       "1           3   41.936570           1  Verticale ed orizzontale    12.471620   \n",
       "2           3   41.923058           1  Verticale ed orizzontale    12.476971   \n",
       "\n",
       "  Chilometrica                               DaSpecificare FondoStradale  \\\n",
       "0          NaN                                         NaN      Asciutto   \n",
       "1          NaN  alt. terzultima colonna direzione via lupi      Asciutto   \n",
       "2            8                                         NaN      Asciutto   \n",
       "\n",
       "  Illuminazione  NUM_RISERVATA Pavimentazione Localizzazione1  \\\n",
       "0   Sufficiente              0      Asfaltata   Strada Urbana   \n",
       "1   Sufficiente              0      Asfaltata   Strada Urbana   \n",
       "2   Sufficiente              0      Asfaltata   Strada Urbana   \n",
       "\n",
       "        Localizzazione2                          NaturaIncidente  \\\n",
       "0  all'intersezione con  Veicolo in marcia contro ostacolo fisso   \n",
       "1        da specificare                             Tamponamento   \n",
       "2         in prossimità                    Tamponamento Multiplo   \n",
       "\n",
       "          DataOraIncidente                      ParticolaritaStrade  \\\n",
       "0  2014-01-01 00:10:00.000  Intersezione non regolata/non segnalata   \n",
       "1  2014-01-01 00:20:00.000                               Rettilineo   \n",
       "2  2014-01-01 01:00:00.000                               Rettilineo   \n",
       "\n",
       "  CondizioneAtmosferica  \n",
       "0                Sereno  \n",
       "1                Sereno  \n",
       "2                Sereno  "
      ]
     },
     "execution_count": 7,
     "metadata": {},
     "output_type": "execute_result"
    }
   ],
   "source": [
    "df14 = pd.read_csv('data/CsvIncidenti2014.csv',delimiter=',')\n",
    "df14.head(3)"
   ]
  },
  {
   "cell_type": "code",
   "execution_count": 8,
   "metadata": {
    "collapsed": true
   },
   "outputs": [],
   "source": [
    "df14 = df14.rename(columns={'CONFERMATO':'Confermato'})"
   ]
  },
  {
   "cell_type": "code",
   "execution_count": 9,
   "metadata": {},
   "outputs": [
    {
     "data": {
      "text/plain": [
       "29662"
      ]
     },
     "execution_count": 9,
     "metadata": {},
     "output_type": "execute_result"
    }
   ],
   "source": [
    "len(df14)"
   ]
  },
  {
   "cell_type": "markdown",
   "metadata": {},
   "source": [
    "### 2007-2013"
   ]
  },
  {
   "cell_type": "code",
   "execution_count": 10,
   "metadata": {},
   "outputs": [
    {
     "data": {
      "text/html": [
       "<div>\n",
       "<table border=\"1\" class=\"dataframe\">\n",
       "  <thead>\n",
       "    <tr style=\"text-align: right;\">\n",
       "      <th></th>\n",
       "      <th>ID</th>\n",
       "      <th>Gruppo</th>\n",
       "      <th>Strada1</th>\n",
       "      <th>Strada2</th>\n",
       "      <th>Strada02</th>\n",
       "      <th>Traffico</th>\n",
       "      <th>NUM_MORTI</th>\n",
       "      <th>TipoStrada</th>\n",
       "      <th>Visibilita</th>\n",
       "      <th>NUM_FERITI</th>\n",
       "      <th>NUM_ILLESI</th>\n",
       "      <th>Latitudine</th>\n",
       "      <th>CONFERMATO</th>\n",
       "      <th>Segnaletica</th>\n",
       "      <th>Longitudine</th>\n",
       "      <th>Chilometrica</th>\n",
       "      <th>DaSpecificare</th>\n",
       "      <th>FondoStradale</th>\n",
       "      <th>Illuminazione</th>\n",
       "      <th>NUM_RISERVATA</th>\n",
       "      <th>Pavimentazione</th>\n",
       "      <th>Localizzazione1</th>\n",
       "      <th>Localizzazione2</th>\n",
       "      <th>NaturaIncidente</th>\n",
       "      <th>DataOraIncidente</th>\n",
       "      <th>ParticolaritaStrade</th>\n",
       "      <th>CondizioneAtmosferica</th>\n",
       "    </tr>\n",
       "  </thead>\n",
       "  <tbody>\n",
       "    <tr>\n",
       "      <th>0</th>\n",
       "      <td>1707637</td>\n",
       "      <td>18</td>\n",
       "      <td>VIA ANASTASIO II</td>\n",
       "      <td>NaN</td>\n",
       "      <td>del civico n.</td>\n",
       "      <td>Normale</td>\n",
       "      <td>0</td>\n",
       "      <td>Due carreggiate</td>\n",
       "      <td>Buona</td>\n",
       "      <td>0</td>\n",
       "      <td>0</td>\n",
       "      <td>NaN</td>\n",
       "      <td>1</td>\n",
       "      <td>Verticale ed orizzontale</td>\n",
       "      <td>NaN</td>\n",
       "      <td>151-153</td>\n",
       "      <td>NaN</td>\n",
       "      <td>Asciutto</td>\n",
       "      <td>Sufficiente</td>\n",
       "      <td>0</td>\n",
       "      <td>Asfaltata</td>\n",
       "      <td>Strada Urbana</td>\n",
       "      <td>in prossimità</td>\n",
       "      <td>Veicolo in marcia contro veicolo in sosta</td>\n",
       "      <td>2007-01-01 00:00:00.000</td>\n",
       "      <td>Rettilineo</td>\n",
       "      <td>Nuvoloso</td>\n",
       "    </tr>\n",
       "    <tr>\n",
       "      <th>1</th>\n",
       "      <td>1708657</td>\n",
       "      <td>4</td>\n",
       "      <td>VIA NOMENTANA</td>\n",
       "      <td>NaN</td>\n",
       "      <td>del civico n.</td>\n",
       "      <td>Normale</td>\n",
       "      <td>0</td>\n",
       "      <td>Più di due carreggiate</td>\n",
       "      <td>Buona</td>\n",
       "      <td>2</td>\n",
       "      <td>9</td>\n",
       "      <td>NaN</td>\n",
       "      <td>1</td>\n",
       "      <td>Verticale ed orizzontale</td>\n",
       "      <td>NaN</td>\n",
       "      <td>537</td>\n",
       "      <td>NaN</td>\n",
       "      <td>Asciutto</td>\n",
       "      <td>Sufficiente</td>\n",
       "      <td>0</td>\n",
       "      <td>Asfaltata</td>\n",
       "      <td>Provinciale entro l'abitato</td>\n",
       "      <td>in prossimità</td>\n",
       "      <td>Tamponamento Multiplo</td>\n",
       "      <td>2007-01-01 00:40:00.000</td>\n",
       "      <td>Rettilineo</td>\n",
       "      <td>Nuvoloso</td>\n",
       "    </tr>\n",
       "    <tr>\n",
       "      <th>2</th>\n",
       "      <td>1707214</td>\n",
       "      <td>18</td>\n",
       "      <td>VIA MATTIA BATTISTINI</td>\n",
       "      <td>NaN</td>\n",
       "      <td>del civico n.</td>\n",
       "      <td>Normale</td>\n",
       "      <td>0</td>\n",
       "      <td>Una carreggiata a doppio senso</td>\n",
       "      <td>Buona</td>\n",
       "      <td>1</td>\n",
       "      <td>2</td>\n",
       "      <td>NaN</td>\n",
       "      <td>1</td>\n",
       "      <td>Orizzontale</td>\n",
       "      <td>NaN</td>\n",
       "      <td>123/A</td>\n",
       "      <td>NaN</td>\n",
       "      <td>Bagnato (pioggia)</td>\n",
       "      <td>Sufficiente</td>\n",
       "      <td>0</td>\n",
       "      <td>Asfaltata</td>\n",
       "      <td>Strada Urbana</td>\n",
       "      <td>in prossimità</td>\n",
       "      <td>Scontro frontale/laterale DX fra veicoli in ma...</td>\n",
       "      <td>2007-01-01 01:10:00.000</td>\n",
       "      <td>Rettilineo</td>\n",
       "      <td>Pioggia in atto</td>\n",
       "    </tr>\n",
       "  </tbody>\n",
       "</table>\n",
       "</div>"
      ],
      "text/plain": [
       "        ID  Gruppo                Strada1 Strada2        Strada02 Traffico  \\\n",
       "0  1707637      18       VIA ANASTASIO II     NaN  del civico n.   Normale   \n",
       "1  1708657       4          VIA NOMENTANA     NaN  del civico n.   Normale   \n",
       "2  1707214      18  VIA MATTIA BATTISTINI     NaN  del civico n.   Normale   \n",
       "\n",
       "   NUM_MORTI                      TipoStrada Visibilita  NUM_FERITI  \\\n",
       "0          0                 Due carreggiate      Buona           0   \n",
       "1          0          Più di due carreggiate      Buona           2   \n",
       "2          0  Una carreggiata a doppio senso      Buona           1   \n",
       "\n",
       "   NUM_ILLESI  Latitudine  CONFERMATO               Segnaletica  Longitudine  \\\n",
       "0           0         NaN           1  Verticale ed orizzontale          NaN   \n",
       "1           9         NaN           1  Verticale ed orizzontale          NaN   \n",
       "2           2         NaN           1               Orizzontale          NaN   \n",
       "\n",
       "  Chilometrica DaSpecificare      FondoStradale Illuminazione  NUM_RISERVATA  \\\n",
       "0      151-153           NaN           Asciutto   Sufficiente              0   \n",
       "1          537           NaN           Asciutto   Sufficiente              0   \n",
       "2        123/A           NaN  Bagnato (pioggia)   Sufficiente              0   \n",
       "\n",
       "  Pavimentazione              Localizzazione1 Localizzazione2  \\\n",
       "0      Asfaltata                Strada Urbana   in prossimità   \n",
       "1      Asfaltata  Provinciale entro l'abitato   in prossimità   \n",
       "2      Asfaltata                Strada Urbana   in prossimità   \n",
       "\n",
       "                                     NaturaIncidente         DataOraIncidente  \\\n",
       "0          Veicolo in marcia contro veicolo in sosta  2007-01-01 00:00:00.000   \n",
       "1                              Tamponamento Multiplo  2007-01-01 00:40:00.000   \n",
       "2  Scontro frontale/laterale DX fra veicoli in ma...  2007-01-01 01:10:00.000   \n",
       "\n",
       "  ParticolaritaStrade CondizioneAtmosferica  \n",
       "0          Rettilineo              Nuvoloso  \n",
       "1          Rettilineo              Nuvoloso  \n",
       "2          Rettilineo       Pioggia in atto  "
      ]
     },
     "execution_count": 10,
     "metadata": {},
     "output_type": "execute_result"
    }
   ],
   "source": [
    "df0713 = pd.read_csv('data/CsvIncidenti20072013.csv',delimiter=',')\n",
    "df0713.head(3)"
   ]
  },
  {
   "cell_type": "code",
   "execution_count": 11,
   "metadata": {
    "collapsed": true
   },
   "outputs": [],
   "source": [
    "df0713 = df0713.rename(columns={'CONFERMATO':'Confermato',\n",
    "                                ' NaturaIncidente':'NaturaIncidente'})"
   ]
  },
  {
   "cell_type": "markdown",
   "metadata": {},
   "source": [
    "# 2017"
   ]
  },
  {
   "cell_type": "code",
   "execution_count": 14,
   "metadata": {},
   "outputs": [
    {
     "name": "stdout",
     "output_type": "stream",
     "text": [
      "CSV_Incidenti_2017_agosto.csv\n",
      "Incidenti_Maggio_2017.csv\n",
      "CSV_Incidenti_2017_luglio.csv\n",
      "Incidenti_genn_febb_new_2017.csv\n",
      "Incidenti_Aprile_2017.csv\n",
      "Incidenti_mar_2017.csv\n",
      "Incidenti_Giugno_2017.csv\n"
     ]
    }
   ],
   "source": [
    "files_2017 = ['CSV_Incidenti_2017_agosto.csv',\n",
    "            'Incidenti_Maggio_2017.csv',\n",
    "            'CSV_Incidenti_2017_luglio.csv',\n",
    "            'Incidenti_genn_febb_new_2017.csv',\n",
    "            'Incidenti_Aprile_2017.csv',\n",
    "            'Incidenti_mar_2017.csv',\n",
    "            'Incidenti_Giugno_2017.csv']\n",
    "df17 = pd.DataFrame()\n",
    "for f in files_2017:\n",
    "    print(f)\n",
    "    df_temp = pd.read_csv('data/2017/{}'.format(f), delimiter=';', encoding=\"ISO-8859-1\", decimal=',')\\\n",
    "                .rename(columns={'STRADA1':'Strada1',\n",
    "                                 'STRADA2':'Strada2',\n",
    "                                 'particolaritastrade':'ParticolaritaStrade'})\n",
    "    #print(df_temp.columns.values.tolist())\n",
    "    df17 = pd.concat([df17,df_temp])\n",
    "    #print('STRADA1' in df17.columns)"
   ]
  },
  {
   "cell_type": "code",
   "execution_count": 17,
   "metadata": {},
   "outputs": [
    {
     "data": {
      "text/plain": [
       "26"
      ]
     },
     "execution_count": 17,
     "metadata": {},
     "output_type": "execute_result"
    }
   ],
   "source": [
    "len([c for c in df17.columns if c in df14.columns])"
   ]
  },
  {
   "cell_type": "code",
   "execution_count": 18,
   "metadata": {},
   "outputs": [
    {
     "data": {
      "text/plain": [
       "['ID']"
      ]
     },
     "execution_count": 18,
     "metadata": {},
     "output_type": "execute_result"
    }
   ],
   "source": [
    "[c for c in df14.columns if c not in df17.columns]"
   ]
  },
  {
   "cell_type": "code",
   "execution_count": 19,
   "metadata": {},
   "outputs": [
    {
     "data": {
      "text/plain": [
       "['Protocollo',\n",
       " 'Progressivo',\n",
       " 'TipoVeicolo',\n",
       " 'StatoVeicolo',\n",
       " 'Marca',\n",
       " 'Modello',\n",
       " 'TipoPersona',\n",
       " 'AnnoNascita',\n",
       " 'Sesso',\n",
       " 'Tipolesione',\n",
       " 'Deceduto',\n",
       " 'DecedutoDopo',\n",
       " 'CinturaCascoUtilizzato',\n",
       " 'Airbag',\n",
       " 'Unnamed: 40']"
      ]
     },
     "execution_count": 19,
     "metadata": {},
     "output_type": "execute_result"
    }
   ],
   "source": [
    "[c for c in df17.columns if c not in df14.columns]"
   ]
  },
  {
   "cell_type": "code",
   "execution_count": 20,
   "metadata": {
    "collapsed": true
   },
   "outputs": [],
   "source": [
    "df17.drop(['Protocollo',\n",
    " 'Progressivo',\n",
    " 'TipoVeicolo',\n",
    " 'StatoVeicolo',\n",
    " 'Marca',\n",
    " 'Modello',\n",
    " 'TipoPersona',\n",
    " 'AnnoNascita',\n",
    " 'Sesso',\n",
    " 'Tipolesione',\n",
    " 'Deceduto',\n",
    " 'DecedutoDopo',\n",
    " 'CinturaCascoUtilizzato',\n",
    " 'Airbag',\n",
    " 'Unnamed: 40'], axis=1, inplace=True)"
   ]
  },
  {
   "cell_type": "code",
   "execution_count": 21,
   "metadata": {},
   "outputs": [
    {
     "data": {
      "text/plain": [
       "3193888"
      ]
     },
     "execution_count": 21,
     "metadata": {},
     "output_type": "execute_result"
    }
   ],
   "source": [
    "max(df14.ID.values.tolist() + df15.ID.values.tolist() + df16.ID.values.tolist() + df0713.ID.values.tolist())"
   ]
  },
  {
   "cell_type": "code",
   "execution_count": 22,
   "metadata": {
    "collapsed": true
   },
   "outputs": [],
   "source": [
    "df17['ID'] = range(3193888, 3193888+len(df17))"
   ]
  },
  {
   "cell_type": "markdown",
   "metadata": {},
   "source": [
    "# Check columns"
   ]
  },
  {
   "cell_type": "code",
   "execution_count": 23,
   "metadata": {},
   "outputs": [
    {
     "data": {
      "text/plain": [
       "(27, 27, 27, 27, 27)"
      ]
     },
     "execution_count": 23,
     "metadata": {},
     "output_type": "execute_result"
    }
   ],
   "source": [
    "len(df14.columns),len(df15.columns),len(df16.columns),len(df0713.columns),len(df17.columns)"
   ]
  },
  {
   "cell_type": "code",
   "execution_count": 24,
   "metadata": {},
   "outputs": [
    {
     "data": {
      "text/plain": [
       "27"
      ]
     },
     "execution_count": 24,
     "metadata": {},
     "output_type": "execute_result"
    }
   ],
   "source": [
    "all_columns = list(set(list(df14.columns) + list(df15.columns) + list(df16.columns) + list(df17.columns)))\n",
    "len(all_columns)"
   ]
  },
  {
   "cell_type": "code",
   "execution_count": 25,
   "metadata": {},
   "outputs": [
    {
     "name": "stdout",
     "output_type": "stream",
     "text": [
      "[]\n",
      "[]\n",
      "[]\n",
      "[]\n",
      "[]\n"
     ]
    }
   ],
   "source": [
    "print([c for c in all_columns if c not in df0713.columns])\n",
    "print([c for c in all_columns if c not in df14.columns])\n",
    "print([c for c in all_columns if c not in df15.columns])\n",
    "print([c for c in all_columns if c not in df16.columns])\n",
    "print([c for c in all_columns if c not in df17.columns])"
   ]
  },
  {
   "cell_type": "markdown",
   "metadata": {},
   "source": [
    "# Merge the datasets"
   ]
  },
  {
   "cell_type": "code",
   "execution_count": 26,
   "metadata": {
    "collapsed": true
   },
   "outputs": [],
   "source": [
    "df = pd.concat([df0713,df14,df15,df16,df17])"
   ]
  },
  {
   "cell_type": "code",
   "execution_count": 27,
   "metadata": {
    "collapsed": true
   },
   "outputs": [],
   "source": [
    "df0713,df14,df15,df16,df17 = None, None, None, None, None"
   ]
  },
  {
   "cell_type": "code",
   "execution_count": 29,
   "metadata": {},
   "outputs": [
    {
     "data": {
      "text/plain": [
       "Latitudine     41.885803\n",
       "Longitudine    12.484239\n",
       "dtype: float64"
      ]
     },
     "execution_count": 29,
     "metadata": {},
     "output_type": "execute_result"
    }
   ],
   "source": [
    "df[['Latitudine','Longitudine']].mean()"
   ]
  },
  {
   "cell_type": "markdown",
   "metadata": {},
   "source": [
    "# Add date, year, month, time, hour, weekday"
   ]
  },
  {
   "cell_type": "code",
   "execution_count": 30,
   "metadata": {
    "collapsed": true
   },
   "outputs": [],
   "source": [
    "df['DataOraIncidente'] = df['DataOraIncidente'].apply(lambda d: pd.to_datetime(d))\n",
    "df['DataOraIncidente_date'] = df['DataOraIncidente'].apply(lambda d: d.date())\n",
    "df['DataOraIncidente_time'] = df['DataOraIncidente'].apply(lambda d: d.time())\n",
    "df['DataOraIncidente_time_h'] = df['DataOraIncidente'].apply(lambda d: d.time().hour)\n",
    "df['DataOraIncidente_weekday'] = df['DataOraIncidente'].apply(lambda d: d.weekday())\n",
    "df['DataOraIncidente_month'] = df['DataOraIncidente'].apply(lambda d: d.month)\n",
    "df['DataOraIncidente_year'] = df['DataOraIncidente'].apply(lambda d: d.year)"
   ]
  },
  {
   "cell_type": "code",
   "execution_count": 31,
   "metadata": {},
   "outputs": [
    {
     "data": {
      "text/html": [
       "<div>\n",
       "<table border=\"1\" class=\"dataframe\">\n",
       "  <thead>\n",
       "    <tr style=\"text-align: right;\">\n",
       "      <th></th>\n",
       "      <th>DataOraIncidente</th>\n",
       "      <th>DataOraIncidente_date</th>\n",
       "      <th>DataOraIncidente_time</th>\n",
       "      <th>DataOraIncidente_time_h</th>\n",
       "      <th>DataOraIncidente_month</th>\n",
       "      <th>DataOraIncidente_year</th>\n",
       "    </tr>\n",
       "  </thead>\n",
       "  <tbody>\n",
       "    <tr>\n",
       "      <th>0</th>\n",
       "      <td>2007-01-01 00:00:00</td>\n",
       "      <td>2007-01-01</td>\n",
       "      <td>00:00:00</td>\n",
       "      <td>0</td>\n",
       "      <td>1</td>\n",
       "      <td>2007</td>\n",
       "    </tr>\n",
       "    <tr>\n",
       "      <th>1</th>\n",
       "      <td>2007-01-01 00:40:00</td>\n",
       "      <td>2007-01-01</td>\n",
       "      <td>00:40:00</td>\n",
       "      <td>0</td>\n",
       "      <td>1</td>\n",
       "      <td>2007</td>\n",
       "    </tr>\n",
       "    <tr>\n",
       "      <th>2</th>\n",
       "      <td>2007-01-01 01:10:00</td>\n",
       "      <td>2007-01-01</td>\n",
       "      <td>01:10:00</td>\n",
       "      <td>1</td>\n",
       "      <td>1</td>\n",
       "      <td>2007</td>\n",
       "    </tr>\n",
       "    <tr>\n",
       "      <th>3</th>\n",
       "      <td>2007-01-01 01:30:00</td>\n",
       "      <td>2007-01-01</td>\n",
       "      <td>01:30:00</td>\n",
       "      <td>1</td>\n",
       "      <td>1</td>\n",
       "      <td>2007</td>\n",
       "    </tr>\n",
       "    <tr>\n",
       "      <th>4</th>\n",
       "      <td>2007-01-01 01:30:00</td>\n",
       "      <td>2007-01-01</td>\n",
       "      <td>01:30:00</td>\n",
       "      <td>1</td>\n",
       "      <td>1</td>\n",
       "      <td>2007</td>\n",
       "    </tr>\n",
       "  </tbody>\n",
       "</table>\n",
       "</div>"
      ],
      "text/plain": [
       "     DataOraIncidente DataOraIncidente_date DataOraIncidente_time  \\\n",
       "0 2007-01-01 00:00:00            2007-01-01              00:00:00   \n",
       "1 2007-01-01 00:40:00            2007-01-01              00:40:00   \n",
       "2 2007-01-01 01:10:00            2007-01-01              01:10:00   \n",
       "3 2007-01-01 01:30:00            2007-01-01              01:30:00   \n",
       "4 2007-01-01 01:30:00            2007-01-01              01:30:00   \n",
       "\n",
       "   DataOraIncidente_time_h  DataOraIncidente_month  DataOraIncidente_year  \n",
       "0                        0                       1                   2007  \n",
       "1                        0                       1                   2007  \n",
       "2                        1                       1                   2007  \n",
       "3                        1                       1                   2007  \n",
       "4                        1                       1                   2007  "
      ]
     },
     "execution_count": 31,
     "metadata": {},
     "output_type": "execute_result"
    }
   ],
   "source": [
    "df[['DataOraIncidente',\n",
    "    'DataOraIncidente_date',\n",
    "    'DataOraIncidente_time',\n",
    "    'DataOraIncidente_time_h',\n",
    "    'DataOraIncidente_month',\n",
    "    'DataOraIncidente_year']].head()"
   ]
  },
  {
   "cell_type": "markdown",
   "metadata": {},
   "source": [
    "# Store the dataset"
   ]
  },
  {
   "cell_type": "code",
   "execution_count": 32,
   "metadata": {
    "collapsed": true
   },
   "outputs": [],
   "source": [
    "df.to_csv('data/incidenti_2007_2017.csv', index=False)"
   ]
  }
 ],
 "metadata": {
  "kernelspec": {
   "display_name": "Python 3",
   "language": "python",
   "name": "python3"
  },
  "language_info": {
   "codemirror_mode": {
    "name": "ipython",
    "version": 3
   },
   "file_extension": ".py",
   "mimetype": "text/x-python",
   "name": "python",
   "nbconvert_exporter": "python",
   "pygments_lexer": "ipython3",
   "version": "3.5.2"
  }
 },
 "nbformat": 4,
 "nbformat_minor": 2
}
