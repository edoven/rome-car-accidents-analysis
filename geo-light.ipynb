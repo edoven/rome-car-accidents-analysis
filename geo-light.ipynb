{
 "cells": [
  {
   "cell_type": "code",
   "execution_count": 1,
   "metadata": {
    "collapsed": true
   },
   "outputs": [],
   "source": [
    "import pandas as pd\n",
    "import matplotlib.pyplot as plt\n",
    "import numpy as np\n",
    "import seaborn as sns\n",
    "import folium\n",
    "from folium import plugins\n",
    "import datetime as dt\n",
    "import folium\n",
    "import os\n",
    "import sys\n",
    "import gmplot\n",
    "import webbrowser\n",
    "from folium.plugins import FastMarkerCluster,HeatMap\n",
    "from selenium import webdriver\n",
    "\n",
    "\n",
    "%matplotlib inline \n",
    "plt.style.use('fivethirtyeight')\n",
    "pd.set_option('display.max_columns', None)"
   ]
  },
  {
   "cell_type": "markdown",
   "metadata": {},
   "source": [
    "# Import data"
   ]
  },
  {
   "cell_type": "code",
   "execution_count": null,
   "metadata": {
    "collapsed": true
   },
   "outputs": [],
   "source": [
    "df = pd.read_csv('data/incidenti_2007_2017.csv')"
   ]
  },
  {
   "cell_type": "code",
   "execution_count": null,
   "metadata": {
    "collapsed": true
   },
   "outputs": [],
   "source": [
    "df['DataOraIncidente'] = df['DataOraIncidente'].apply(lambda d: pd.to_datetime(d))\n",
    "# df['DataOraIncidente_year'] = df['DataOraIncidente'].apply(lambda d: d.year)\n",
    "# df['DataOraIncidente_month'] = df['DataOraIncidente'].apply(lambda d: d.month)\n",
    "# df['DataOraIncidente_day'] = df['DataOraIncidente'].apply(lambda d: d.day)"
   ]
  },
  {
   "cell_type": "code",
   "execution_count": null,
   "metadata": {},
   "outputs": [],
   "source": [
    "COORD_ROMA = df[~df['Latitudine'].isnull()][['Latitudine','Longitudine']].mean().values.tolist()\n",
    "COORD_ROMA"
   ]
  },
  {
   "cell_type": "markdown",
   "metadata": {},
   "source": [
    "# Incidenti con deceduti - punti singoli con descrizione"
   ]
  },
  {
   "cell_type": "code",
   "execution_count": null,
   "metadata": {},
   "outputs": [],
   "source": [
    "m = folium.Map(\n",
    "    location=[COORD_ROMA[0],COORD_ROMA[1]],\n",
    "    zoom_start=12,\n",
    "    tiles='cartodbpositron',\n",
    "    #tiles='Stamen',\n",
    "    #attr='Terrain',\n",
    "    prefer_canvas=True,\n",
    "    width='50%',\n",
    "    height='50%')\n",
    "\n",
    "columns = ['Latitudine',\n",
    "           'Longitudine',\n",
    "           'DataOraIncidente',\n",
    "           'NaturaIncidente',\n",
    "           'CondizioneAtmosferica',\n",
    "           'FondoStradale',\n",
    "           'Traffico']\n",
    "\n",
    "df_temp = df[(~df['Latitudine'].isnull()) & (df['NUM_MORTI']>0)][columns]\n",
    "\n",
    "for i in range(len(df_temp)):\n",
    "    row = df_temp.iloc[i]\n",
    "    popup = '<b>Data</b>: {}<br />'+\\\n",
    "            '<b>Orario</b>: {}<br />'+\\\n",
    "            '<b>Natura Incidente</b>: {}<br />'+\\\n",
    "            '<b>Condizione Atmosferica</b>: {}<br />'+\\\n",
    "            '<b>Fondo Stradale</b>: {}<br />'+\\\n",
    "            '<b>Traffico</b>: {}'\n",
    "    popup = popup.format(str(row['DataOraIncidente'])[:10],\n",
    "                         str(row['DataOraIncidente'])[11:],\n",
    "                         row['NaturaIncidente'],\n",
    "                         row['CondizioneAtmosferica'],\n",
    "                         row['FondoStradale'],\n",
    "                         row['Traffico'])\n",
    "    folium.Circle(\n",
    "        location=[row['Latitudine'],row['Longitudine']],\n",
    "        radius=3,\n",
    "        color='#0078ff80',\n",
    "        popup=popup\n",
    "    ).add_to(m)\n",
    "\n",
    "#FastMarkerCluster(df_temp[['Latitudine','Longitudine']].values.tolist()).add_to(m)\n",
    "\n",
    "m.save('maps/incidenti_deceduti.html')\n",
    "webbrowser.open('file://' + os.path.realpath(\"maps/incidenti_deceduti.html\"))"
   ]
  },
  {
   "cell_type": "markdown",
   "metadata": {},
   "source": [
    "# Heatmap tutti gli incidenti"
   ]
  },
  {
   "cell_type": "markdown",
   "metadata": {},
   "source": [
    "### Google (50000!!!)"
   ]
  },
  {
   "cell_type": "code",
   "execution_count": null,
   "metadata": {
    "collapsed": true
   },
   "outputs": [],
   "source": [
    "# latlong = df[~df['Latitudine'].isnull()][['Latitudine','Longitudine']].head(50000).values.tolist()\n",
    "\n",
    "# gmap = gmplot.GoogleMapPlotter.from_geocode(\"Rome\", zoom=11.8)\n",
    "# gmap.heatmap([x[0] for x in latlong],\n",
    "#              [x[1] for x in latlong])\n",
    "# gmap.draw('maps/heatmap_tutti_google_50k.html')\n",
    "# webbrowser.open('file://' + os.path.realpath('maps/heatmap_tutti_google_50k.html'))"
   ]
  },
  {
   "cell_type": "markdown",
   "metadata": {},
   "source": [
    "### Folium"
   ]
  },
  {
   "cell_type": "code",
   "execution_count": null,
   "metadata": {},
   "outputs": [],
   "source": [
    "m = folium.Map(\n",
    "    location=[COORD_ROMA[0],COORD_ROMA[1]],\n",
    "    zoom_start=10,\n",
    "    tiles='cartodbpositron',\n",
    "    width='50%',\n",
    "    height='50%'\n",
    ")\n",
    "\n",
    "latlong = df[~df['Latitudine'].isnull()][['Latitudine','Longitudine']].head(50000).values.tolist()\n",
    "HeatMap(latlong, radius=10).add_to(m)\n",
    "\n",
    "path = 'maps/heatmap_tutti_folium.html'\n",
    "m.save(path)\n",
    "webbrowser.open('file://' + os.path.realpath(path))"
   ]
  },
  {
   "cell_type": "code",
   "execution_count": null,
   "metadata": {
    "collapsed": true
   },
   "outputs": [],
   "source": [
    "# for radius in [0.1, 1, 5, 10, 20]:\n",
    "#     m = folium.Map(\n",
    "#         location=[COORD_ROMA[0],COORD_ROMA[1]],\n",
    "#         zoom_start=12,\n",
    "#         tiles='cartodbpositron',\n",
    "#         width='50%',\n",
    "#         height='50%'\n",
    "#     )\n",
    "#     HeatMap(latlong,radius=radius).add_to(m)\n",
    "#     path = 'maps/heatmap_tutti_folium_radius_{}.html'.format(radius)\n",
    "#     m.save(path)"
   ]
  },
  {
   "cell_type": "markdown",
   "metadata": {},
   "source": [
    "# Strade"
   ]
  },
  {
   "cell_type": "code",
   "execution_count": null,
   "metadata": {
    "collapsed": true
   },
   "outputs": [],
   "source": [
    "top_strade = df.groupby('Strada1')\\\n",
    "               .count()[['ID']]\\\n",
    "               .sort_values(by='ID', ascending=False)\\\n",
    "               .head(10).index.values\n",
    "for strada in top_strade:\n",
    "    m = folium.Map(\n",
    "        location=[COORD_ROMA[0],COORD_ROMA[1]],\n",
    "        zoom_start=10,\n",
    "        tiles='cartodbpositron',\n",
    "        width='50%',\n",
    "        height='50%'\n",
    "    )\n",
    "\n",
    "\n",
    "    HeatMap(df[(~df['Latitudine'].isnull()) & ((df['Strada1']==strada) | (df['Strada2']==strada))][['Latitudine','Longitudine']].values.tolist(), \n",
    "            radius=10).add_to(m)\n",
    "\n",
    "    m.save(\"maps/strade/{}.html\".format(strada.replace(' ','_')))\n",
    "    #webbrowser.open('file://' + os.path.realpath(\"maps/colombo.html\"))"
   ]
  },
  {
   "cell_type": "markdown",
   "metadata": {},
   "source": [
    "# Heatmap - evolution month by month"
   ]
  },
  {
   "cell_type": "code",
   "execution_count": null,
   "metadata": {},
   "outputs": [],
   "source": [
    "df[~df['Latitudine'].isnull()].groupby(['DataOraIncidente_year','DataOraIncidente_month']).count()[['ID']].plot()"
   ]
  },
  {
   "cell_type": "code",
   "execution_count": null,
   "metadata": {
    "collapsed": true
   },
   "outputs": [],
   "source": [
    "def get_map():\n",
    "    return folium.Map(\n",
    "                        location=[COORD_ROMA[0],COORD_ROMA[1]],\n",
    "                        zoom_start=10,\n",
    "                        tiles='cartodbpositron',\n",
    "                        width='100%',\n",
    "                        height='100%'\n",
    "                    )\n",
    "\n",
    "\n",
    "for y in [2014,2015,2016]:\n",
    "    for m in range(1,12+1):\n",
    "        if (y==2014) and (m<4):\n",
    "            pass\n",
    "        else:\n",
    "            mymap = get_map()\n",
    "            HeatMap(df[(~df['Latitudine'].isnull()) & (df['DataOraIncidente_year']==y) & (df['DataOraIncidente_month']==m)][['Latitudine','Longitudine']].values.tolist(), \n",
    "            radius=10).add_to(mymap)\n",
    "            mymap.save(\"maps/evolution/{}_{}.html\".format(y,m))"
   ]
  },
  {
   "cell_type": "code",
   "execution_count": null,
   "metadata": {
    "collapsed": true
   },
   "outputs": [],
   "source": [
    "import os\n",
    "import time\n",
    "from selenium import webdriver\n",
    "\n",
    "delay=5\n",
    "fn='maps/evolution/2014_7.html'\n",
    "tmpurl='file://{path}/{mapfile}'.format(path=os.getcwd(),mapfile=fn)\n",
    "#print(tmpurl)\n",
    "#m.save(fn)\n",
    "\n",
    "browser = webdriver.Firefox()\n",
    "browser.get(tmpurl)\n",
    "#Give the map tiles some time to load\n",
    "time.sleep(delay)\n",
    "browser.save_screenshot('maps/evolution/screenshots/test.png')\n",
    "browser.quit()"
   ]
  },
  {
   "cell_type": "markdown",
   "metadata": {},
   "source": [
    "*Commands to create the gif*. \n",
    "\n",
    "1)  mogrify -resize 640x480 *.png  \n",
    "2)  convert -delay 50 -loop 0 *.png mygif.gif  \n"
   ]
  },
  {
   "cell_type": "code",
   "execution_count": null,
   "metadata": {},
   "outputs": [],
   "source": [
    "#for y in [2014,2015,2016]:\n",
    "for y in [2015,2016]:\n",
    "    for m in range(1,12+1):\n",
    "        if (y==2014) and (m<4):\n",
    "            pass\n",
    "        else:\n",
    "            map_file = \"maps/evolution/{}_{}.html\".format(y,m)\n",
    "            url = 'file://{path}/{mapfile}'.format(path=os.getcwd(),mapfile=map_file)\n",
    "            print(url)\n",
    "            browser = webdriver.Firefox()\n",
    "            browser.get(url)\n",
    "            time.sleep(delay)\n",
    "            browser.save_screenshot('maps/evolution/screenshots/{}_{}.png'.format(y,m))\n",
    "            browser.quit()"
   ]
  },
  {
   "cell_type": "markdown",
   "metadata": {},
   "source": [
    "# Evolution - year by year"
   ]
  },
  {
   "cell_type": "code",
   "execution_count": null,
   "metadata": {
    "collapsed": true
   },
   "outputs": [],
   "source": [
    "def get_map():\n",
    "    return folium.Map(\n",
    "                        location=[COORD_ROMA[0],COORD_ROMA[1]],\n",
    "                        zoom_start=10,\n",
    "                        tiles='cartodbpositron',\n",
    "                        width='100%',\n",
    "                        height='100%'\n",
    "                    )\n",
    "\n",
    "\n",
    "for y in [2014,2015,2016]:\n",
    "    mymap = get_map()\n",
    "    HeatMap(df[(~df['Latitudine'].isnull()) & (df['DataOraIncidente_year']==y)][['Latitudine','Longitudine']].values.tolist(), \n",
    "    radius=10).add_to(mymap)\n",
    "    mymap.save(\"maps/evolution/year/{}.html\".format(y))"
   ]
  },
  {
   "cell_type": "markdown",
   "metadata": {
    "collapsed": true
   },
   "source": [
    "# Incidenti con pedoni - punti singoli"
   ]
  },
  {
   "cell_type": "code",
   "execution_count": null,
   "metadata": {},
   "outputs": [],
   "source": [
    "m = folium.Map(\n",
    "    location=[COORD_ROMA[0],COORD_ROMA[1]],\n",
    "    zoom_start=12,\n",
    "    tiles='cartodbpositron',\n",
    "    #tiles='Stamen',\n",
    "    #attr='Terrain',\n",
    "    prefer_canvas=True,\n",
    "    width='50%',\n",
    "    height='50%')\n",
    "\n",
    "columns = ['Latitudine',\n",
    "           'Longitudine',\n",
    "           'DataOraIncidente',\n",
    "           #'NaturaIncidente',\n",
    "           'CondizioneAtmosferica',\n",
    "           'FondoStradale',\n",
    "           'Traffico',\n",
    "           'NUM_MORTI']\n",
    "\n",
    "df_temp = df[(~df['Latitudine'].isnull()) & (df['NaturaIncidente']=='Investimento di pedone')][columns]\n",
    "print('LEN:',len(df_temp))\n",
    "\n",
    "for i in range(len(df_temp)):\n",
    "    row = df_temp.iloc[i]\n",
    "    popup = '<b>Data</b>: {}<br />'+\\\n",
    "            '<b>Orario</b>: {}<br />'+\\\n",
    "            '<b>Condizione Atmosferica</b>: {}<br />'+\\\n",
    "            '<b>Fondo Stradale</b>: {}<br />'+\\\n",
    "            '<b>Traffico</b>: {}'\n",
    "    popup = popup.format(str(row['DataOraIncidente'])[:10],\n",
    "                         str(row['DataOraIncidente'])[11:],\n",
    "                         row['CondizioneAtmosferica'],\n",
    "                         row['FondoStradale'],\n",
    "                         row['Traffico'])\n",
    "    folium.Circle(\n",
    "        location=[row['Latitudine'],row['Longitudine']],\n",
    "        radius=3,\n",
    "        color = 'red' if row['NUM_MORTI']>0 else '#0078ff80',\n",
    "        popup=popup\n",
    "    ).add_to(m)\n",
    "    \n",
    "    if i%100==0:\n",
    "        print(i,end=' ')\n",
    "\n",
    "map_file = 'maps/incidenti_pedoni.html'\n",
    "m.save(map_file)\n",
    "webbrowser.open('file://' + os.path.realpath(map_file))"
   ]
  },
  {
   "cell_type": "markdown",
   "metadata": {},
   "source": [
    "# Illuminazione insufficiente o inesistente"
   ]
  },
  {
   "cell_type": "code",
   "execution_count": null,
   "metadata": {},
   "outputs": [],
   "source": [
    "m = folium.Map(\n",
    "    location=[COORD_ROMA[0],COORD_ROMA[1]],\n",
    "    zoom_start=12,\n",
    "    tiles='cartodbpositron',\n",
    "    #tiles='Stamen',\n",
    "    #attr='Terrain',\n",
    "    prefer_canvas=True,\n",
    "    width='50%',\n",
    "    height='50%')\n",
    "\n",
    "columns = ['Latitudine',\n",
    "           'Longitudine',\n",
    "           'DataOraIncidente',\n",
    "           #'NaturaIncidente',\n",
    "           'CondizioneAtmosferica',\n",
    "           'FondoStradale',\n",
    "           'Traffico',\n",
    "           'NUM_MORTI']\n",
    "\n",
    "df_temp = df[(~df['Latitudine'].isnull()) & (df['Illuminazione'].isin(['Inesistente','Insufficiente']))][columns]\n",
    "print('LEN:',len(df_temp))\n",
    "\n",
    "for i in range(len(df_temp)):\n",
    "    row = df_temp.iloc[i]\n",
    "    popup = '<b>Data</b>: {}<br />'+\\\n",
    "            '<b>Orario</b>: {}<br />'+\\\n",
    "            '<b>Condizione Atmosferica</b>: {}<br />'+\\\n",
    "            '<b>Fondo Stradale</b>: {}<br />'+\\\n",
    "            '<b>Traffico</b>: {}'\n",
    "    popup = popup.format(str(row['DataOraIncidente'])[:10],\n",
    "                         str(row['DataOraIncidente'])[11:],\n",
    "                         row['CondizioneAtmosferica'],\n",
    "                         row['FondoStradale'],\n",
    "                         row['Traffico'])\n",
    "    folium.Circle(\n",
    "        location=[row['Latitudine'],row['Longitudine']],\n",
    "        radius=3,\n",
    "        color = 'red' if row['NUM_MORTI']>0 else '#0078ff80',\n",
    "        popup=popup\n",
    "    ).add_to(m)\n",
    "    \n",
    "    if i%100==0:\n",
    "        print(i,end=' ')\n",
    "\n",
    "map_file = 'maps/incidenti_cattiva_illuminazione.html'\n",
    "m.save(map_file)\n",
    "webbrowser.open('file://' + os.path.realpath(map_file))"
   ]
  },
  {
   "cell_type": "markdown",
   "metadata": {},
   "source": [
    "# bagnato vs asciutto"
   ]
  },
  {
   "cell_type": "code",
   "execution_count": null,
   "metadata": {},
   "outputs": [],
   "source": [
    "df.groupby('FondoStradale')\\\n",
    "  .count()[['ID']]\\\n",
    "  .sort_values(by='ID', ascending=False)"
   ]
  },
  {
   "cell_type": "code",
   "execution_count": null,
   "metadata": {
    "collapsed": true
   },
   "outputs": [],
   "source": [
    "def get_map():\n",
    "    return folium.Map(\n",
    "                        location=[COORD_ROMA[0],COORD_ROMA[1]],\n",
    "                        zoom_start=10,\n",
    "                        tiles='cartodbpositron',\n",
    "                        width='100%',\n",
    "                        height='100%'\n",
    "                    )\n",
    "\n",
    "\n",
    "df_temp = df[(~df['Latitudine'].isnull())]\n",
    "\n",
    "mymap = get_map()\n",
    "df_bagnato = df_temp[df_temp['FondoStradale'].isin(['Bagnato (pioggia)','Bagnato (umidità in atto)'])]\n",
    "#df_bagnato = df_bagnato.sample(len(df_asciutto))\n",
    "HeatMap(df_bagnato[['Latitudine','Longitudine']].values.tolist(), \n",
    "        radius=10).add_to(mymap)\n",
    "mymap.save(\"maps/bagnato_asciutto/bagnato.html\")\n",
    "\n",
    "\n",
    "mymap = get_map()\n",
    "df_asciutto = df_temp[df_temp['FondoStradale']=='Asciutto']\n",
    "df_asciutto = df_asciutto.sample(len(df_bagnato))\n",
    "HeatMap(df_asciutto[['Latitudine','Longitudine']].values.tolist(), \n",
    "        radius=10).add_to(mymap)\n",
    "mymap.save(\"maps/bagnato_asciutto/asciutto.html\")"
   ]
  },
  {
   "cell_type": "markdown",
   "metadata": {},
   "source": [
    "# Google maps"
   ]
  },
  {
   "cell_type": "markdown",
   "metadata": {},
   "source": [
    "### Markers"
   ]
  },
  {
   "cell_type": "code",
   "execution_count": null,
   "metadata": {
    "collapsed": true
   },
   "outputs": [],
   "source": [
    "columns = ['Latitudine',\n",
    "           'Longitudine',\n",
    "           'DataOraIncidente',\n",
    "           'NaturaIncidente',\n",
    "           'CondizioneAtmosferica',\n",
    "           'FondoStradale',\n",
    "           'Traffico']\n",
    "\n",
    "# CON DECEDUTI\n",
    "df_temp = df[(~df['Latitudine'].isnull()) & (df['NUM_MORTI']>0)][columns]\n",
    "gmap = gmplot.GoogleMapPlotter.from_geocode(\"Rome\", zoom=11)\n",
    "for i in range(len(df_temp)):\n",
    "    row = df_temp.iloc[i]\n",
    "    popup = 'Data: {}\\\\n'+\\\n",
    "            'Orario: {}\\\\n'+\\\n",
    "            'Natura Incidente: {}\\\\n'+\\\n",
    "            'Condizione Atmosferica: {}\\\\n'+\\\n",
    "            'Fondo Stradale: {}\\\\n'+\\\n",
    "            'Traffico: {}\\\\n'\n",
    "    popup = popup.format(str(row['DataOraIncidente'])[:10],\n",
    "                         str(row['DataOraIncidente'])[11:],\n",
    "                         row['NaturaIncidente'],\n",
    "                         row['CondizioneAtmosferica'],\n",
    "                         row['FondoStradale'],\n",
    "                         row['Traffico'])   \n",
    "    gmap.marker(row['Latitudine'],row['Longitudine'], title=popup, color='red')\n",
    "    \n",
    "\n",
    "# #SENZA DECEDUTI    \n",
    "# df_temp = df[(~df['Latitudine'].isnull()) & (df['NUM_MORTI']==0)][columns]\n",
    "# gmap = gmplot.GoogleMapPlotter.from_geocode(\"Rome\", zoom=11)\n",
    "# for i in range(len(df_temp)):\n",
    "#     row = df_temp.iloc[i]\n",
    "#     popup = 'Data: {}\\\\n'+\\\n",
    "#             'Orario: {}\\\\n'+\\\n",
    "#             'Natura Incidente: {}\\\\n'+\\\n",
    "#             'Condizione Atmosferica: {}\\\\n'+\\\n",
    "#             'Fondo Stradale: {}\\\\n'+\\\n",
    "#             'Traffico: {}\\\\n'\n",
    "#     popup = popup.format(str(row['DataOraIncidente'])[:10],\n",
    "#                          str(row['DataOraIncidente'])[11:],\n",
    "#                          row['NaturaIncidente'],\n",
    "#                          row['CondizioneAtmosferica'],\n",
    "#                          row['FondoStradale'],\n",
    "#                          row['Traffico'])   \n",
    "#     gmap.marker(row['Latitudine'],row['Longitudine'], title=popup, color='blue')\n",
    "\n",
    "    \n",
    "gmap.draw(\"maps/punti_singoli.html\")\n",
    "webbrowser.open('file://' + os.path.realpath(\"maps/punti_singoli.html\"))"
   ]
  },
  {
   "cell_type": "markdown",
   "metadata": {},
   "source": [
    "### Heatmap"
   ]
  },
  {
   "cell_type": "code",
   "execution_count": null,
   "metadata": {
    "collapsed": true
   },
   "outputs": [],
   "source": [
    "#df_temp = df[~df['Latitudine'].isnull()][columns]#.head(1000)\n",
    "latlong = df[~df['Latitudine'].isnull()][['Latitudine','Longitudine']].head(50000).values.tolist()\n",
    "\n",
    "gmap = gmplot.GoogleMapPlotter.from_geocode(\"Rome\", zoom=11.8)\n",
    "gmap.heatmap([x[0] for x in latlong],\n",
    "             [x[1] for x in latlong])\n",
    "gmap.draw(\"mymap.html\")\n",
    "webbrowser.open('file://' + os.path.realpath(\"mymap.html\"))"
   ]
  },
  {
   "cell_type": "markdown",
   "metadata": {},
   "source": [
    "# Strade"
   ]
  },
  {
   "cell_type": "code",
   "execution_count": null,
   "metadata": {
    "collapsed": true
   },
   "outputs": [],
   "source": []
  },
  {
   "cell_type": "markdown",
   "metadata": {},
   "source": [
    "# Natura incidente"
   ]
  },
  {
   "cell_type": "code",
   "execution_count": null,
   "metadata": {
    "collapsed": true
   },
   "outputs": [],
   "source": []
  },
  {
   "cell_type": "code",
   "execution_count": null,
   "metadata": {
    "collapsed": true
   },
   "outputs": [],
   "source": []
  }
 ],
 "metadata": {
  "kernelspec": {
   "display_name": "Python 3",
   "language": "python",
   "name": "python3"
  },
  "language_info": {
   "codemirror_mode": {
    "name": "ipython",
    "version": 3
   },
   "file_extension": ".py",
   "mimetype": "text/x-python",
   "name": "python",
   "nbconvert_exporter": "python",
   "pygments_lexer": "ipython3",
   "version": "3.5.2"
  }
 },
 "nbformat": 4,
 "nbformat_minor": 2
}
